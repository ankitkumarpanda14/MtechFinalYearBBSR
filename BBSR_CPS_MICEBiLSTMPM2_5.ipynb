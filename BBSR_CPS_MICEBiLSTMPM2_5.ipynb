{
  "nbformat": 4,
  "nbformat_minor": 0,
  "metadata": {
    "colab": {
      "name": "BBSR_CPS_MICEBiLSTMPM2_5.ipynb",
      "provenance": []
    },
    "kernelspec": {
      "name": "python3",
      "display_name": "Python 3"
    }
  },
  "cells": [
    {
      "cell_type": "code",
      "metadata": {
        "id": "3A3jVkDrEBGd"
      },
      "source": [
        "import pandas as pd          \n",
        "import numpy as np          # For mathematical calculations\n",
        "import matplotlib.pyplot as plt  # For plotting graphs\n",
        "from datetime import datetime    # To access datetime\n",
        "from pandas import Series        # To work on series\n",
        "import matplotlib\n",
        "import warnings                   # To ignore the warnings\n",
        "warnings.filterwarnings(\"ignore\")\n",
        "from math import sqrt\n",
        "from sklearn import metrics\n",
        "from sklearn.metrics import mean_squared_error\n",
        "from sklearn.metrics import mean_absolute_error"
      ],
      "execution_count": null,
      "outputs": []
    },
    {
      "cell_type": "code",
      "metadata": {
        "id": "Yztm-hMoFJqL"
      },
      "source": [
        "df = pd.read_excel('Merged_pollution_dataset.xlsx')\n",
        "df_bbsr = df[(df['City/Town/Village/Area'] == 'Bhubaneswar') | (df['City/Town/Village/Area'] == 'Bhubaneshwar')]\n",
        "\n",
        "df_bbsr.dtypes\n",
        "\n",
        "df_bbsr['RSPM/PM10'] = pd.to_numeric(df_bbsr['RSPM/PM10'], errors='coerce')\n",
        "df_bbsr['SO2'] = pd.to_numeric(df_bbsr['SO2'], errors='coerce')\n",
        "df_bbsr['NO2'] = pd.to_numeric(df_bbsr['NO2'], errors='coerce')\n",
        "df_bbsr['SPM'] = pd.to_numeric(df_bbsr['SPM'], errors='coerce')\n",
        "\n",
        "pol_obs = 'SPM'"
      ],
      "execution_count": null,
      "outputs": []
    },
    {
      "cell_type": "code",
      "metadata": {
        "id": "CPnogL_dFZ2F"
      },
      "source": [
        "df_bbsr['Location of Monitoring Station'].replace('SPCB Building, Bhubaneshwar', 'OSPCB Bldg',inplace=True)\n",
        "df_bbsr['Location of Monitoring Station'].replace('Capital Police Station, Bhubaneshwar', 'Capital Police Stn.',inplace=True)\n",
        "df_bbsr['Location of Monitoring Station'].replace('IRC Vilage, Bhubaneshwar', 'IRC',inplace=True)\n",
        "df_bbsr['Location of Monitoring Station'].replace('Chandrasekharpur. Bhubneswar', 'Chandrasekharpur',inplace=True)\n",
        "df_bbsr['Location of Monitoring Station'].replace('Water works, Palasuni, Bhubneswar', 'Palasuni',inplace=True)\n",
        "df_bbsr['Location of Monitoring Station'].replace('Patrapada, Bhubneswar', 'Patrapada',inplace=True)"
      ],
      "execution_count": null,
      "outputs": []
    },
    {
      "cell_type": "code",
      "metadata": {
        "id": "mmg2SrBcFiyW",
        "colab": {
          "base_uri": "https://localhost:8080/",
          "height": 235
        },
        "outputId": "664afa16-2d25-41dc-b07f-5ad767150a28"
      },
      "source": [
        "df_bbsr_cps = df_bbsr[(df_bbsr['Location of Monitoring Station'] == 'Capital Police Stn.')]\n",
        "\n",
        "df_bbsr_cps['Sampling Date'] = pd.to_datetime(df_bbsr_cps['Sampling Date'], format='%Y-%m-%d %H:%M')\n",
        "\n",
        "df_bbsr_cps.dtypes"
      ],
      "execution_count": null,
      "outputs": [
        {
          "output_type": "execute_result",
          "data": {
            "text/plain": [
              "Stn Code                                 float64\n",
              "Sampling Date                     datetime64[ns]\n",
              "State                                     object\n",
              "City/Town/Village/Area                    object\n",
              "Location of Monitoring Station            object\n",
              "Agency                                    object\n",
              "Type of Location                          object\n",
              "SO2                                      float64\n",
              "NO2                                      float64\n",
              "RSPM/PM10                                float64\n",
              "SPM                                      float64\n",
              "dtype: object"
            ]
          },
          "metadata": {
            "tags": []
          },
          "execution_count": 72
        }
      ]
    },
    {
      "cell_type": "code",
      "metadata": {
        "id": "lXlunSG9Fo16"
      },
      "source": [
        "from matplotlib.pylab import rcParams\n",
        "rcParams['figure.figsize'] = 15,8"
      ],
      "execution_count": null,
      "outputs": []
    },
    {
      "cell_type": "code",
      "metadata": {
        "id": "J-EvUwpmFrVK",
        "colab": {
          "base_uri": "https://localhost:8080/",
          "height": 501
        },
        "outputId": "e7349a00-8b2b-4603-cef3-87e5bce22ed3"
      },
      "source": [
        "df_bbsr_cps = df_bbsr_cps.set_index(df_bbsr_cps['Sampling Date'])\n",
        "df_bbsr_cps = df_bbsr_cps.sort_index()\n",
        "plt.plot(df_bbsr_cps[pol_obs])"
      ],
      "execution_count": null,
      "outputs": [
        {
          "output_type": "execute_result",
          "data": {
            "text/plain": [
              "[<matplotlib.lines.Line2D at 0x7f308ff9ae10>]"
            ]
          },
          "metadata": {
            "tags": []
          },
          "execution_count": 74
        },
        {
          "output_type": "display_data",
          "data": {
            "image/png": "[encoded data removed]",
            "text/plain": [
              "<Figure size 1080x576 with 1 Axes>"
            ]
          },
          "metadata": {
            "tags": [],
            "needs_background": "light"
          }
        }
      ]
    },
    {
      "cell_type": "code",
      "metadata": {
        "id": "PMiL2hytFuDa",
        "colab": {
          "base_uri": "https://localhost:8080/",
          "height": 90
        },
        "outputId": "5422a612-dacb-4b21-be20-3f4f63a25261"
      },
      "source": [
        "df_bbsr_cps = df_bbsr_cps.drop(['Stn Code','State','Location of Monitoring Station',\n",
        "                                'Agency','Type of Location','City/Town/Village/Area','Sampling Date'],axis = 1)\n",
        "\n",
        "cols = df_bbsr_cps.columns\n",
        "\n",
        "for field in cols:\n",
        "   print(field, df_bbsr_cps[field].isna().sum())\n",
        "\n",
        "date_series = df_bbsr_cps.index"
      ],
      "execution_count": null,
      "outputs": [
        {
          "output_type": "stream",
          "text": [
            "SO2 389\n",
            "NO2 3\n",
            "RSPM/PM10 0\n",
            "SPM 222\n"
          ],
          "name": "stdout"
        }
      ]
    },
    {
      "cell_type": "code",
      "metadata": {
        "id": "1iCZ3PxsJ6Ic",
        "colab": {
          "base_uri": "https://localhost:8080/",
          "height": 162
        },
        "outputId": "26fb7655-6c49-4da2-93d2-10a89975f566"
      },
      "source": [
        "print(date_series)"
      ],
      "execution_count": null,
      "outputs": [
        {
          "output_type": "stream",
          "text": [
            "DatetimeIndex(['2005-01-14', '2005-01-17', '2005-01-20', '2005-01-22',\n",
            "               '2005-01-25', '2005-01-29', '2005-02-02', '2005-02-03',\n",
            "               '2005-02-07', '2005-02-15',\n",
            "               ...\n",
            "               '2015-11-18', '2015-11-20', '2015-11-23', '2015-11-27',\n",
            "               '2015-12-02', '2015-12-15', '2015-12-18', '2015-12-21',\n",
            "               '2015-12-23', '2015-12-31'],\n",
            "              dtype='datetime64[ns]', name='Sampling Date', length=939, freq=None)\n"
          ],
          "name": "stdout"
        }
      ]
    },
    {
      "cell_type": "code",
      "metadata": {
        "id": "l4vpVLhPF2Ja"
      },
      "source": [
        "from fancyimpute import IterativeImputer\n",
        "mice_imputer = IterativeImputer()\n",
        "df_bbsr_cps_imputed =  mice_imputer.fit_transform(df_bbsr_cps)"
      ],
      "execution_count": null,
      "outputs": []
    },
    {
      "cell_type": "code",
      "metadata": {
        "id": "h4wzfPCmGHcW",
        "colab": {
          "base_uri": "https://localhost:8080/",
          "height": 501
        },
        "outputId": "4ed917f5-c975-4084-a391-e731b466f18d"
      },
      "source": [
        "plt.plot(df_bbsr_cps_imputed[:, 0])"
      ],
      "execution_count": null,
      "outputs": [
        {
          "output_type": "execute_result",
          "data": {
            "text/plain": [
              "[<matplotlib.lines.Line2D at 0x7f3091b26320>]"
            ]
          },
          "metadata": {
            "tags": []
          },
          "execution_count": 78
        },
        {
          "output_type": "display_data",
          "data": {
            "image/png": "[encoded data removed]",
            "text/plain": [
              "<Figure size 1080x576 with 1 Axes>"
            ]
          },
          "metadata": {
            "tags": [],
            "needs_background": "light"
          }
        }
      ]
    },
    {
      "cell_type": "code",
      "metadata": {
        "id": "OvV4oKeOGNn8",
        "colab": {
          "base_uri": "https://localhost:8080/",
          "height": 206
        },
        "outputId": "fe44e315-c1df-4194-c80b-439bd5e2d1ad"
      },
      "source": [
        "df_bbsr_cps_after_impute = pd.DataFrame(data = df_bbsr_cps_imputed, columns = df_bbsr_cps.columns)\n",
        "df_bbsr_cps_after_impute.head()"
      ],
      "execution_count": null,
      "outputs": [
        {
          "output_type": "execute_result",
          "data": {
            "text/html": [
              "<div>\n",
              "<style scoped>\n",
              "    .dataframe tbody tr th:only-of-type {\n",
              "        vertical-align: middle;\n",
              "    }\n",
              "\n",
              "    .dataframe tbody tr th {\n",
              "        vertical-align: top;\n",
              "    }\n",
              "\n",
              "    .dataframe thead th {\n",
              "        text-align: right;\n",
              "    }\n",
              "</style>\n",
              "<table border=\"1\" class=\"dataframe\">\n",
              "  <thead>\n",
              "    <tr style=\"text-align: right;\">\n",
              "      <th></th>\n",
              "      <th>SO2</th>\n",
              "      <th>NO2</th>\n",
              "      <th>RSPM/PM10</th>\n",
              "      <th>SPM</th>\n",
              "    </tr>\n",
              "  </thead>\n",
              "  <tbody>\n",
              "    <tr>\n",
              "      <th>0</th>\n",
              "      <td>2.635859</td>\n",
              "      <td>14.0</td>\n",
              "      <td>140.0</td>\n",
              "      <td>219.0</td>\n",
              "    </tr>\n",
              "    <tr>\n",
              "      <th>1</th>\n",
              "      <td>4.280287</td>\n",
              "      <td>20.0</td>\n",
              "      <td>270.0</td>\n",
              "      <td>383.0</td>\n",
              "    </tr>\n",
              "    <tr>\n",
              "      <th>2</th>\n",
              "      <td>1.537766</td>\n",
              "      <td>25.0</td>\n",
              "      <td>95.0</td>\n",
              "      <td>220.0</td>\n",
              "    </tr>\n",
              "    <tr>\n",
              "      <th>3</th>\n",
              "      <td>2.308368</td>\n",
              "      <td>21.0</td>\n",
              "      <td>141.0</td>\n",
              "      <td>259.0</td>\n",
              "    </tr>\n",
              "    <tr>\n",
              "      <th>4</th>\n",
              "      <td>2.676068</td>\n",
              "      <td>36.0</td>\n",
              "      <td>152.0</td>\n",
              "      <td>226.0</td>\n",
              "    </tr>\n",
              "  </tbody>\n",
              "</table>\n",
              "</div>"
            ],
            "text/plain": [
              "        SO2   NO2  RSPM/PM10    SPM\n",
              "0  2.635859  14.0      140.0  219.0\n",
              "1  4.280287  20.0      270.0  383.0\n",
              "2  1.537766  25.0       95.0  220.0\n",
              "3  2.308368  21.0      141.0  259.0\n",
              "4  2.676068  36.0      152.0  226.0"
            ]
          },
          "metadata": {
            "tags": []
          },
          "execution_count": 79
        }
      ]
    },
    {
      "cell_type": "code",
      "metadata": {
        "id": "ACj0gI0JHaOn",
        "colab": {
          "base_uri": "https://localhost:8080/",
          "height": 206
        },
        "outputId": "d233cef4-d591-415d-b903-d14aa7a2e2ac"
      },
      "source": [
        "df_bbsr_cps_after_impute['Date'] = date_series\n",
        "df_bbsr_cps_after_impute.head()"
      ],
      "execution_count": null,
      "outputs": [
        {
          "output_type": "execute_result",
          "data": {
            "text/html": [
              "<div>\n",
              "<style scoped>\n",
              "    .dataframe tbody tr th:only-of-type {\n",
              "        vertical-align: middle;\n",
              "    }\n",
              "\n",
              "    .dataframe tbody tr th {\n",
              "        vertical-align: top;\n",
              "    }\n",
              "\n",
              "    .dataframe thead th {\n",
              "        text-align: right;\n",
              "    }\n",
              "</style>\n",
              "<table border=\"1\" class=\"dataframe\">\n",
              "  <thead>\n",
              "    <tr style=\"text-align: right;\">\n",
              "      <th></th>\n",
              "      <th>SO2</th>\n",
              "      <th>NO2</th>\n",
              "      <th>RSPM/PM10</th>\n",
              "      <th>SPM</th>\n",
              "      <th>Date</th>\n",
              "    </tr>\n",
              "  </thead>\n",
              "  <tbody>\n",
              "    <tr>\n",
              "      <th>0</th>\n",
              "      <td>2.635859</td>\n",
              "      <td>14.0</td>\n",
              "      <td>140.0</td>\n",
              "      <td>219.0</td>\n",
              "      <td>2005-01-14</td>\n",
              "    </tr>\n",
              "    <tr>\n",
              "      <th>1</th>\n",
              "      <td>4.280287</td>\n",
              "      <td>20.0</td>\n",
              "      <td>270.0</td>\n",
              "      <td>383.0</td>\n",
              "      <td>2005-01-17</td>\n",
              "    </tr>\n",
              "    <tr>\n",
              "      <th>2</th>\n",
              "      <td>1.537766</td>\n",
              "      <td>25.0</td>\n",
              "      <td>95.0</td>\n",
              "      <td>220.0</td>\n",
              "      <td>2005-01-20</td>\n",
              "    </tr>\n",
              "    <tr>\n",
              "      <th>3</th>\n",
              "      <td>2.308368</td>\n",
              "      <td>21.0</td>\n",
              "      <td>141.0</td>\n",
              "      <td>259.0</td>\n",
              "      <td>2005-01-22</td>\n",
              "    </tr>\n",
              "    <tr>\n",
              "      <th>4</th>\n",
              "      <td>2.676068</td>\n",
              "      <td>36.0</td>\n",
              "      <td>152.0</td>\n",
              "      <td>226.0</td>\n",
              "      <td>2005-01-25</td>\n",
              "    </tr>\n",
              "  </tbody>\n",
              "</table>\n",
              "</div>"
            ],
            "text/plain": [
              "        SO2   NO2  RSPM/PM10    SPM       Date\n",
              "0  2.635859  14.0      140.0  219.0 2005-01-14\n",
              "1  4.280287  20.0      270.0  383.0 2005-01-17\n",
              "2  1.537766  25.0       95.0  220.0 2005-01-20\n",
              "3  2.308368  21.0      141.0  259.0 2005-01-22\n",
              "4  2.676068  36.0      152.0  226.0 2005-01-25"
            ]
          },
          "metadata": {
            "tags": []
          },
          "execution_count": 80
        }
      ]
    },
    {
      "cell_type": "code",
      "metadata": {
        "id": "6jzK4cYRKAMO",
        "colab": {
          "base_uri": "https://localhost:8080/",
          "height": 237
        },
        "outputId": "ad8139ef-0098-4afa-bfa5-7bbaae32752a"
      },
      "source": [
        "df_bbsr_cps_after_impute = df_bbsr_cps_after_impute.set_index(df_bbsr_cps_after_impute['Date'], drop = True)\n",
        "df_bbsr_cps_after_impute = df_bbsr_cps_after_impute.sort_index()\n",
        "df_bbsr_cps_after_impute.head()"
      ],
      "execution_count": null,
      "outputs": [
        {
          "output_type": "execute_result",
          "data": {
            "text/html": [
              "<div>\n",
              "<style scoped>\n",
              "    .dataframe tbody tr th:only-of-type {\n",
              "        vertical-align: middle;\n",
              "    }\n",
              "\n",
              "    .dataframe tbody tr th {\n",
              "        vertical-align: top;\n",
              "    }\n",
              "\n",
              "    .dataframe thead th {\n",
              "        text-align: right;\n",
              "    }\n",
              "</style>\n",
              "<table border=\"1\" class=\"dataframe\">\n",
              "  <thead>\n",
              "    <tr style=\"text-align: right;\">\n",
              "      <th></th>\n",
              "      <th>SO2</th>\n",
              "      <th>NO2</th>\n",
              "      <th>RSPM/PM10</th>\n",
              "      <th>SPM</th>\n",
              "      <th>Date</th>\n",
              "    </tr>\n",
              "    <tr>\n",
              "      <th>Date</th>\n",
              "      <th></th>\n",
              "      <th></th>\n",
              "      <th></th>\n",
              "      <th></th>\n",
              "      <th></th>\n",
              "    </tr>\n",
              "  </thead>\n",
              "  <tbody>\n",
              "    <tr>\n",
              "      <th>2005-01-14</th>\n",
              "      <td>2.635859</td>\n",
              "      <td>14.0</td>\n",
              "      <td>140.0</td>\n",
              "      <td>219.0</td>\n",
              "      <td>2005-01-14</td>\n",
              "    </tr>\n",
              "    <tr>\n",
              "      <th>2005-01-17</th>\n",
              "      <td>4.280287</td>\n",
              "      <td>20.0</td>\n",
              "      <td>270.0</td>\n",
              "      <td>383.0</td>\n",
              "      <td>2005-01-17</td>\n",
              "    </tr>\n",
              "    <tr>\n",
              "      <th>2005-01-20</th>\n",
              "      <td>1.537766</td>\n",
              "      <td>25.0</td>\n",
              "      <td>95.0</td>\n",
              "      <td>220.0</td>\n",
              "      <td>2005-01-20</td>\n",
              "    </tr>\n",
              "    <tr>\n",
              "      <th>2005-01-22</th>\n",
              "      <td>2.308368</td>\n",
              "      <td>21.0</td>\n",
              "      <td>141.0</td>\n",
              "      <td>259.0</td>\n",
              "      <td>2005-01-22</td>\n",
              "    </tr>\n",
              "    <tr>\n",
              "      <th>2005-01-25</th>\n",
              "      <td>2.676068</td>\n",
              "      <td>36.0</td>\n",
              "      <td>152.0</td>\n",
              "      <td>226.0</td>\n",
              "      <td>2005-01-25</td>\n",
              "    </tr>\n",
              "  </tbody>\n",
              "</table>\n",
              "</div>"
            ],
            "text/plain": [
              "                 SO2   NO2  RSPM/PM10    SPM       Date\n",
              "Date                                                   \n",
              "2005-01-14  2.635859  14.0      140.0  219.0 2005-01-14\n",
              "2005-01-17  4.280287  20.0      270.0  383.0 2005-01-17\n",
              "2005-01-20  1.537766  25.0       95.0  220.0 2005-01-20\n",
              "2005-01-22  2.308368  21.0      141.0  259.0 2005-01-22\n",
              "2005-01-25  2.676068  36.0      152.0  226.0 2005-01-25"
            ]
          },
          "metadata": {
            "tags": []
          },
          "execution_count": 81
        }
      ]
    },
    {
      "cell_type": "code",
      "metadata": {
        "id": "CCKaEhlUKTvV",
        "colab": {
          "base_uri": "https://localhost:8080/",
          "height": 237
        },
        "outputId": "ccb358f1-eb36-485e-e623-6b188c8da3a3"
      },
      "source": [
        "df_bbsr_cps_after_impute = df_bbsr_cps_after_impute.drop(['Date'], axis = 1)\n",
        "df_bbsr_cps_after_impute.head()"
      ],
      "execution_count": null,
      "outputs": [
        {
          "output_type": "execute_result",
          "data": {
            "text/html": [
              "<div>\n",
              "<style scoped>\n",
              "    .dataframe tbody tr th:only-of-type {\n",
              "        vertical-align: middle;\n",
              "    }\n",
              "\n",
              "    .dataframe tbody tr th {\n",
              "        vertical-align: top;\n",
              "    }\n",
              "\n",
              "    .dataframe thead th {\n",
              "        text-align: right;\n",
              "    }\n",
              "</style>\n",
              "<table border=\"1\" class=\"dataframe\">\n",
              "  <thead>\n",
              "    <tr style=\"text-align: right;\">\n",
              "      <th></th>\n",
              "      <th>SO2</th>\n",
              "      <th>NO2</th>\n",
              "      <th>RSPM/PM10</th>\n",
              "      <th>SPM</th>\n",
              "    </tr>\n",
              "    <tr>\n",
              "      <th>Date</th>\n",
              "      <th></th>\n",
              "      <th></th>\n",
              "      <th></th>\n",
              "      <th></th>\n",
              "    </tr>\n",
              "  </thead>\n",
              "  <tbody>\n",
              "    <tr>\n",
              "      <th>2005-01-14</th>\n",
              "      <td>2.635859</td>\n",
              "      <td>14.0</td>\n",
              "      <td>140.0</td>\n",
              "      <td>219.0</td>\n",
              "    </tr>\n",
              "    <tr>\n",
              "      <th>2005-01-17</th>\n",
              "      <td>4.280287</td>\n",
              "      <td>20.0</td>\n",
              "      <td>270.0</td>\n",
              "      <td>383.0</td>\n",
              "    </tr>\n",
              "    <tr>\n",
              "      <th>2005-01-20</th>\n",
              "      <td>1.537766</td>\n",
              "      <td>25.0</td>\n",
              "      <td>95.0</td>\n",
              "      <td>220.0</td>\n",
              "    </tr>\n",
              "    <tr>\n",
              "      <th>2005-01-22</th>\n",
              "      <td>2.308368</td>\n",
              "      <td>21.0</td>\n",
              "      <td>141.0</td>\n",
              "      <td>259.0</td>\n",
              "    </tr>\n",
              "    <tr>\n",
              "      <th>2005-01-25</th>\n",
              "      <td>2.676068</td>\n",
              "      <td>36.0</td>\n",
              "      <td>152.0</td>\n",
              "      <td>226.0</td>\n",
              "    </tr>\n",
              "  </tbody>\n",
              "</table>\n",
              "</div>"
            ],
            "text/plain": [
              "                 SO2   NO2  RSPM/PM10    SPM\n",
              "Date                                        \n",
              "2005-01-14  2.635859  14.0      140.0  219.0\n",
              "2005-01-17  4.280287  20.0      270.0  383.0\n",
              "2005-01-20  1.537766  25.0       95.0  220.0\n",
              "2005-01-22  2.308368  21.0      141.0  259.0\n",
              "2005-01-25  2.676068  36.0      152.0  226.0"
            ]
          },
          "metadata": {
            "tags": []
          },
          "execution_count": 82
        }
      ]
    },
    {
      "cell_type": "code",
      "metadata": {
        "id": "Tj83blE_KpUE",
        "colab": {
          "base_uri": "https://localhost:8080/",
          "height": 237
        },
        "outputId": "6581e3f8-3d8e-4ebf-a7d2-949230114ef7"
      },
      "source": [
        "df_index_list = df_bbsr_cps_after_impute.index.values\n",
        "years = pd.DatetimeIndex(df_index_list)\n",
        "list_year = years.year\n",
        "list_month = years.month\n",
        "list_day = years.day\n",
        "list_dayOfWeek = years.dayofweek\n",
        "df_bbsr_cps_after_impute['year'] = list_year \n",
        "df_bbsr_cps_after_impute['month'] = list_month \n",
        "df_bbsr_cps_after_impute['day'] = list_day\n",
        "df_bbsr_cps_after_impute['day_of_week'] = list_dayOfWeek\n",
        "\n",
        "#Determining Weekend\n",
        "def weekend(row):\n",
        "   if (row == 5) or (row == 6):\n",
        "       return 1\n",
        "   else:\n",
        "       return 0\n",
        "\n",
        "df_bbsr_cps_after_impute['weekend'] = df_bbsr_cps_after_impute['day_of_week'].apply(weekend)\n",
        "df_bbsr_cps_after_impute.head()"
      ],
      "execution_count": null,
      "outputs": [
        {
          "output_type": "execute_result",
          "data": {
            "text/html": [
              "<div>\n",
              "<style scoped>\n",
              "    .dataframe tbody tr th:only-of-type {\n",
              "        vertical-align: middle;\n",
              "    }\n",
              "\n",
              "    .dataframe tbody tr th {\n",
              "        vertical-align: top;\n",
              "    }\n",
              "\n",
              "    .dataframe thead th {\n",
              "        text-align: right;\n",
              "    }\n",
              "</style>\n",
              "<table border=\"1\" class=\"dataframe\">\n",
              "  <thead>\n",
              "    <tr style=\"text-align: right;\">\n",
              "      <th></th>\n",
              "      <th>SO2</th>\n",
              "      <th>NO2</th>\n",
              "      <th>RSPM/PM10</th>\n",
              "      <th>SPM</th>\n",
              "      <th>year</th>\n",
              "      <th>month</th>\n",
              "      <th>day</th>\n",
              "      <th>day_of_week</th>\n",
              "      <th>weekend</th>\n",
              "    </tr>\n",
              "    <tr>\n",
              "      <th>Date</th>\n",
              "      <th></th>\n",
              "      <th></th>\n",
              "      <th></th>\n",
              "      <th></th>\n",
              "      <th></th>\n",
              "      <th></th>\n",
              "      <th></th>\n",
              "      <th></th>\n",
              "      <th></th>\n",
              "    </tr>\n",
              "  </thead>\n",
              "  <tbody>\n",
              "    <tr>\n",
              "      <th>2005-01-14</th>\n",
              "      <td>2.635859</td>\n",
              "      <td>14.0</td>\n",
              "      <td>140.0</td>\n",
              "      <td>219.0</td>\n",
              "      <td>2005</td>\n",
              "      <td>1</td>\n",
              "      <td>14</td>\n",
              "      <td>4</td>\n",
              "      <td>0</td>\n",
              "    </tr>\n",
              "    <tr>\n",
              "      <th>2005-01-17</th>\n",
              "      <td>4.280287</td>\n",
              "      <td>20.0</td>\n",
              "      <td>270.0</td>\n",
              "      <td>383.0</td>\n",
              "      <td>2005</td>\n",
              "      <td>1</td>\n",
              "      <td>17</td>\n",
              "      <td>0</td>\n",
              "      <td>0</td>\n",
              "    </tr>\n",
              "    <tr>\n",
              "      <th>2005-01-20</th>\n",
              "      <td>1.537766</td>\n",
              "      <td>25.0</td>\n",
              "      <td>95.0</td>\n",
              "      <td>220.0</td>\n",
              "      <td>2005</td>\n",
              "      <td>1</td>\n",
              "      <td>20</td>\n",
              "      <td>3</td>\n",
              "      <td>0</td>\n",
              "    </tr>\n",
              "    <tr>\n",
              "      <th>2005-01-22</th>\n",
              "      <td>2.308368</td>\n",
              "      <td>21.0</td>\n",
              "      <td>141.0</td>\n",
              "      <td>259.0</td>\n",
              "      <td>2005</td>\n",
              "      <td>1</td>\n",
              "      <td>22</td>\n",
              "      <td>5</td>\n",
              "      <td>1</td>\n",
              "    </tr>\n",
              "    <tr>\n",
              "      <th>2005-01-25</th>\n",
              "      <td>2.676068</td>\n",
              "      <td>36.0</td>\n",
              "      <td>152.0</td>\n",
              "      <td>226.0</td>\n",
              "      <td>2005</td>\n",
              "      <td>1</td>\n",
              "      <td>25</td>\n",
              "      <td>1</td>\n",
              "      <td>0</td>\n",
              "    </tr>\n",
              "  </tbody>\n",
              "</table>\n",
              "</div>"
            ],
            "text/plain": [
              "                 SO2   NO2  RSPM/PM10    SPM  ...  month  day  day_of_week  weekend\n",
              "Date                                          ...                                  \n",
              "2005-01-14  2.635859  14.0      140.0  219.0  ...      1   14            4        0\n",
              "2005-01-17  4.280287  20.0      270.0  383.0  ...      1   17            0        0\n",
              "2005-01-20  1.537766  25.0       95.0  220.0  ...      1   20            3        0\n",
              "2005-01-22  2.308368  21.0      141.0  259.0  ...      1   22            5        1\n",
              "2005-01-25  2.676068  36.0      152.0  226.0  ...      1   25            1        0\n",
              "\n",
              "[5 rows x 9 columns]"
            ]
          },
          "metadata": {
            "tags": []
          },
          "execution_count": 83
        }
      ]
    },
    {
      "cell_type": "code",
      "metadata": {
        "id": "AzEoOfWHK-Nl"
      },
      "source": [
        "mean_ospcb = df_bbsr_cps_after_impute[pol_obs].min()\n",
        "std_dev_ospcb = df_bbsr_cps_after_impute[pol_obs].max() - df_bbsr_cps_after_impute[pol_obs].min()\n",
        "\n",
        "cols = df_bbsr_cps_after_impute.columns\n",
        "for field in cols:    \n",
        "   df_bbsr_cps_after_impute[field][df_bbsr_cps_after_impute[field] > (df_bbsr_cps_after_impute[field].mean() + 2.5*df_bbsr_cps_after_impute[field].std())] = np.nan\n"
      ],
      "execution_count": null,
      "outputs": []
    },
    {
      "cell_type": "code",
      "metadata": {
        "id": "nZFR1lUrLpBF",
        "colab": {
          "base_uri": "https://localhost:8080/",
          "height": 181
        },
        "outputId": "2b683a00-5dd1-4eff-91a4-ae5b831898a3"
      },
      "source": [
        "for field in cols:\n",
        "   print(field, df_bbsr_cps_after_impute[field].isna().sum())"
      ],
      "execution_count": null,
      "outputs": [
        {
          "output_type": "stream",
          "text": [
            "SO2 7\n",
            "NO2 25\n",
            "RSPM/PM10 19\n",
            "SPM 16\n",
            "year 0\n",
            "month 0\n",
            "day 0\n",
            "day_of_week 0\n",
            "weekend 0\n"
          ],
          "name": "stdout"
        }
      ]
    },
    {
      "cell_type": "code",
      "metadata": {
        "id": "BXIUFiv3Lrwf",
        "colab": {
          "base_uri": "https://localhost:8080/",
          "height": 501
        },
        "outputId": "2dfe6bff-3a3a-4b1d-8abb-5d7eb16ea7cb"
      },
      "source": [
        "plt.plot(df_bbsr_cps_after_impute['RSPM/PM10'])"
      ],
      "execution_count": null,
      "outputs": [
        {
          "output_type": "execute_result",
          "data": {
            "text/plain": [
              "[<matplotlib.lines.Line2D at 0x7f308f8fce80>]"
            ]
          },
          "metadata": {
            "tags": []
          },
          "execution_count": 86
        },
        {
          "output_type": "display_data",
          "data": {
            "image/png": "[encoded data removed]",
            "text/plain": [
              "<Figure size 1080x576 with 1 Axes>"
            ]
          },
          "metadata": {
            "tags": [],
            "needs_background": "light"
          }
        }
      ]
    },
    {
      "cell_type": "code",
      "metadata": {
        "id": "bHyC5WIcM5Rq",
        "colab": {
          "base_uri": "https://localhost:8080/",
          "height": 72
        },
        "outputId": "89df677a-88d1-4b9f-faa0-ea6f30e51a2c"
      },
      "source": [
        "print(cols)"
      ],
      "execution_count": null,
      "outputs": [
        {
          "output_type": "stream",
          "text": [
            "Index(['SO2', 'NO2', 'RSPM/PM10', 'SPM', 'year', 'month', 'day', 'day_of_week',\n",
            "       'weekend'],\n",
            "      dtype='object')\n"
          ],
          "name": "stdout"
        }
      ]
    },
    {
      "cell_type": "code",
      "metadata": {
        "id": "zo-X6VktL3gN"
      },
      "source": [
        "for field in cols:\n",
        "  df_bbsr_cps_after_impute[field] = df_bbsr_cps_after_impute[field].interpolate(method = 'spline', order = 3)"
      ],
      "execution_count": null,
      "outputs": []
    },
    {
      "cell_type": "code",
      "metadata": {
        "id": "KhXQTU5ZMP0I",
        "colab": {
          "base_uri": "https://localhost:8080/",
          "height": 181
        },
        "outputId": "27be7d0c-91c7-4027-c986-1f3a232533bb"
      },
      "source": [
        "for field in cols:\n",
        "   print(field, df_bbsr_cps_after_impute[field].isna().sum())"
      ],
      "execution_count": null,
      "outputs": [
        {
          "output_type": "stream",
          "text": [
            "SO2 0\n",
            "NO2 0\n",
            "RSPM/PM10 19\n",
            "SPM 16\n",
            "year 0\n",
            "month 0\n",
            "day 0\n",
            "day_of_week 0\n",
            "weekend 0\n"
          ],
          "name": "stdout"
        }
      ]
    },
    {
      "cell_type": "code",
      "metadata": {
        "id": "pSvF-xZtMWku",
        "colab": {
          "base_uri": "https://localhost:8080/",
          "height": 199
        },
        "outputId": "6764bfaa-5539-4988-de07-2c98d2a90047"
      },
      "source": [
        "df_bbsr_cps_after_impute[pol_obs] = df_bbsr_cps_after_impute[pol_obs].fillna(method = 'backfill')   #Replacing \"nan\" with the previous values\n",
        "df_bbsr_cps_after_impute.isna().sum()"
      ],
      "execution_count": null,
      "outputs": [
        {
          "output_type": "execute_result",
          "data": {
            "text/plain": [
              "SO2             0\n",
              "NO2             0\n",
              "RSPM/PM10      19\n",
              "SPM             0\n",
              "year            0\n",
              "month           0\n",
              "day             0\n",
              "day_of_week     0\n",
              "weekend         0\n",
              "dtype: int64"
            ]
          },
          "metadata": {
            "tags": []
          },
          "execution_count": 90
        }
      ]
    },
    {
      "cell_type": "code",
      "metadata": {
        "id": "hnlY1d-hOTj1",
        "colab": {
          "base_uri": "https://localhost:8080/",
          "height": 199
        },
        "outputId": "b597f4ba-fd3d-4ae6-c508-7195be4e7bbe"
      },
      "source": [
        "df_bbsr_cps_after_impute['RSPM/PM10'] = df_bbsr_cps_after_impute['RSPM/PM10'].fillna(method = 'backfill')   #Replacing \"nan\" with the previous values\n",
        "df_bbsr_cps_after_impute.isna().sum()"
      ],
      "execution_count": null,
      "outputs": [
        {
          "output_type": "execute_result",
          "data": {
            "text/plain": [
              "SO2            0\n",
              "NO2            0\n",
              "RSPM/PM10      0\n",
              "SPM            0\n",
              "year           0\n",
              "month          0\n",
              "day            0\n",
              "day_of_week    0\n",
              "weekend        0\n",
              "dtype: int64"
            ]
          },
          "metadata": {
            "tags": []
          },
          "execution_count": 91
        }
      ]
    },
    {
      "cell_type": "code",
      "metadata": {
        "id": "CPkNbTttOcec",
        "colab": {
          "base_uri": "https://localhost:8080/",
          "height": 237
        },
        "outputId": "74170673-f1e0-45f4-9a8b-f3cb71409070"
      },
      "source": [
        "df_bbsr_cps_after_impute = df_bbsr_cps_after_impute.drop(['SO2'],axis = 1)\n",
        "df_bbsr_cps_after_impute.head()"
      ],
      "execution_count": null,
      "outputs": [
        {
          "output_type": "execute_result",
          "data": {
            "text/html": [
              "<div>\n",
              "<style scoped>\n",
              "    .dataframe tbody tr th:only-of-type {\n",
              "        vertical-align: middle;\n",
              "    }\n",
              "\n",
              "    .dataframe tbody tr th {\n",
              "        vertical-align: top;\n",
              "    }\n",
              "\n",
              "    .dataframe thead th {\n",
              "        text-align: right;\n",
              "    }\n",
              "</style>\n",
              "<table border=\"1\" class=\"dataframe\">\n",
              "  <thead>\n",
              "    <tr style=\"text-align: right;\">\n",
              "      <th></th>\n",
              "      <th>NO2</th>\n",
              "      <th>RSPM/PM10</th>\n",
              "      <th>SPM</th>\n",
              "      <th>year</th>\n",
              "      <th>month</th>\n",
              "      <th>day</th>\n",
              "      <th>day_of_week</th>\n",
              "      <th>weekend</th>\n",
              "    </tr>\n",
              "    <tr>\n",
              "      <th>Date</th>\n",
              "      <th></th>\n",
              "      <th></th>\n",
              "      <th></th>\n",
              "      <th></th>\n",
              "      <th></th>\n",
              "      <th></th>\n",
              "      <th></th>\n",
              "      <th></th>\n",
              "    </tr>\n",
              "  </thead>\n",
              "  <tbody>\n",
              "    <tr>\n",
              "      <th>2005-01-14</th>\n",
              "      <td>14.000000</td>\n",
              "      <td>140.0</td>\n",
              "      <td>219.0</td>\n",
              "      <td>2005</td>\n",
              "      <td>1</td>\n",
              "      <td>14</td>\n",
              "      <td>4</td>\n",
              "      <td>0</td>\n",
              "    </tr>\n",
              "    <tr>\n",
              "      <th>2005-01-17</th>\n",
              "      <td>20.000000</td>\n",
              "      <td>95.0</td>\n",
              "      <td>383.0</td>\n",
              "      <td>2005</td>\n",
              "      <td>1</td>\n",
              "      <td>17</td>\n",
              "      <td>0</td>\n",
              "      <td>0</td>\n",
              "    </tr>\n",
              "    <tr>\n",
              "      <th>2005-01-20</th>\n",
              "      <td>25.000000</td>\n",
              "      <td>95.0</td>\n",
              "      <td>220.0</td>\n",
              "      <td>2005</td>\n",
              "      <td>1</td>\n",
              "      <td>20</td>\n",
              "      <td>3</td>\n",
              "      <td>0</td>\n",
              "    </tr>\n",
              "    <tr>\n",
              "      <th>2005-01-22</th>\n",
              "      <td>21.000000</td>\n",
              "      <td>141.0</td>\n",
              "      <td>259.0</td>\n",
              "      <td>2005</td>\n",
              "      <td>1</td>\n",
              "      <td>22</td>\n",
              "      <td>5</td>\n",
              "      <td>1</td>\n",
              "    </tr>\n",
              "    <tr>\n",
              "      <th>2005-01-25</th>\n",
              "      <td>19.216355</td>\n",
              "      <td>152.0</td>\n",
              "      <td>226.0</td>\n",
              "      <td>2005</td>\n",
              "      <td>1</td>\n",
              "      <td>25</td>\n",
              "      <td>1</td>\n",
              "      <td>0</td>\n",
              "    </tr>\n",
              "  </tbody>\n",
              "</table>\n",
              "</div>"
            ],
            "text/plain": [
              "                  NO2  RSPM/PM10    SPM  year  month  day  day_of_week  weekend\n",
              "Date                                                                           \n",
              "2005-01-14  14.000000      140.0  219.0  2005      1   14            4        0\n",
              "2005-01-17  20.000000       95.0  383.0  2005      1   17            0        0\n",
              "2005-01-20  25.000000       95.0  220.0  2005      1   20            3        0\n",
              "2005-01-22  21.000000      141.0  259.0  2005      1   22            5        1\n",
              "2005-01-25  19.216355      152.0  226.0  2005      1   25            1        0"
            ]
          },
          "metadata": {
            "tags": []
          },
          "execution_count": 92
        }
      ]
    },
    {
      "cell_type": "code",
      "metadata": {
        "id": "BtOhsHtVOxZJ",
        "colab": {
          "base_uri": "https://localhost:8080/",
          "height": 237
        },
        "outputId": "664cb856-32d7-4d0b-d9f3-51947a8dce74"
      },
      "source": [
        "cols = df_bbsr_cps_after_impute.columns\n",
        "for field in cols:\n",
        "   df_bbsr_cps_after_impute[field] = (df_bbsr_cps_after_impute[field] - df_bbsr_cps_after_impute[field].min())/(df_bbsr_cps_after_impute[field].max() - df_bbsr_cps_after_impute[field].min())\n",
        "\n",
        "df_bbsr_cps_after_impute.head()"
      ],
      "execution_count": null,
      "outputs": [
        {
          "output_type": "execute_result",
          "data": {
            "text/html": [
              "<div>\n",
              "<style scoped>\n",
              "    .dataframe tbody tr th:only-of-type {\n",
              "        vertical-align: middle;\n",
              "    }\n",
              "\n",
              "    .dataframe tbody tr th {\n",
              "        vertical-align: top;\n",
              "    }\n",
              "\n",
              "    .dataframe thead th {\n",
              "        text-align: right;\n",
              "    }\n",
              "</style>\n",
              "<table border=\"1\" class=\"dataframe\">\n",
              "  <thead>\n",
              "    <tr style=\"text-align: right;\">\n",
              "      <th></th>\n",
              "      <th>NO2</th>\n",
              "      <th>RSPM/PM10</th>\n",
              "      <th>SPM</th>\n",
              "      <th>year</th>\n",
              "      <th>month</th>\n",
              "      <th>day</th>\n",
              "      <th>day_of_week</th>\n",
              "      <th>weekend</th>\n",
              "    </tr>\n",
              "    <tr>\n",
              "      <th>Date</th>\n",
              "      <th></th>\n",
              "      <th></th>\n",
              "      <th></th>\n",
              "      <th></th>\n",
              "      <th></th>\n",
              "      <th></th>\n",
              "      <th></th>\n",
              "      <th></th>\n",
              "    </tr>\n",
              "  </thead>\n",
              "  <tbody>\n",
              "    <tr>\n",
              "      <th>2005-01-14</th>\n",
              "      <td>0.169074</td>\n",
              "      <td>0.599034</td>\n",
              "      <td>0.544122</td>\n",
              "      <td>0.0</td>\n",
              "      <td>0.0</td>\n",
              "      <td>0.433333</td>\n",
              "      <td>0.666667</td>\n",
              "      <td>0.0</td>\n",
              "    </tr>\n",
              "    <tr>\n",
              "      <th>2005-01-17</th>\n",
              "      <td>0.244064</td>\n",
              "      <td>0.381643</td>\n",
              "      <td>0.969055</td>\n",
              "      <td>0.0</td>\n",
              "      <td>0.0</td>\n",
              "      <td>0.533333</td>\n",
              "      <td>0.000000</td>\n",
              "      <td>0.0</td>\n",
              "    </tr>\n",
              "    <tr>\n",
              "      <th>2005-01-20</th>\n",
              "      <td>0.306555</td>\n",
              "      <td>0.381643</td>\n",
              "      <td>0.546713</td>\n",
              "      <td>0.0</td>\n",
              "      <td>0.0</td>\n",
              "      <td>0.633333</td>\n",
              "      <td>0.500000</td>\n",
              "      <td>0.0</td>\n",
              "    </tr>\n",
              "    <tr>\n",
              "      <th>2005-01-22</th>\n",
              "      <td>0.256562</td>\n",
              "      <td>0.603865</td>\n",
              "      <td>0.647764</td>\n",
              "      <td>0.0</td>\n",
              "      <td>0.0</td>\n",
              "      <td>0.700000</td>\n",
              "      <td>0.833333</td>\n",
              "      <td>1.0</td>\n",
              "    </tr>\n",
              "    <tr>\n",
              "      <th>2005-01-25</th>\n",
              "      <td>0.234270</td>\n",
              "      <td>0.657005</td>\n",
              "      <td>0.562259</td>\n",
              "      <td>0.0</td>\n",
              "      <td>0.0</td>\n",
              "      <td>0.800000</td>\n",
              "      <td>0.166667</td>\n",
              "      <td>0.0</td>\n",
              "    </tr>\n",
              "  </tbody>\n",
              "</table>\n",
              "</div>"
            ],
            "text/plain": [
              "                 NO2  RSPM/PM10       SPM  ...       day  day_of_week  weekend\n",
              "Date                                       ...                                \n",
              "2005-01-14  0.169074   0.599034  0.544122  ...  0.433333     0.666667      0.0\n",
              "2005-01-17  0.244064   0.381643  0.969055  ...  0.533333     0.000000      0.0\n",
              "2005-01-20  0.306555   0.381643  0.546713  ...  0.633333     0.500000      0.0\n",
              "2005-01-22  0.256562   0.603865  0.647764  ...  0.700000     0.833333      1.0\n",
              "2005-01-25  0.234270   0.657005  0.562259  ...  0.800000     0.166667      0.0\n",
              "\n",
              "[5 rows x 8 columns]"
            ]
          },
          "metadata": {
            "tags": []
          },
          "execution_count": 93
        }
      ]
    },
    {
      "cell_type": "code",
      "metadata": {
        "id": "YaWo6Fc5eP9e",
        "colab": {
          "base_uri": "https://localhost:8080/",
          "height": 237
        },
        "outputId": "a459268f-1b0a-44d3-85b6-b30fce05cf9a"
      },
      "source": [
        "df_bbsr_cps_after_impute = df_bbsr_cps_after_impute[['NO2','RSPM/PM10','year','month','day','day_of_week','weekend','SPM']]\n",
        "df_bbsr_cps_after_impute.head()"
      ],
      "execution_count": null,
      "outputs": [
        {
          "output_type": "execute_result",
          "data": {
            "text/html": [
              "<div>\n",
              "<style scoped>\n",
              "    .dataframe tbody tr th:only-of-type {\n",
              "        vertical-align: middle;\n",
              "    }\n",
              "\n",
              "    .dataframe tbody tr th {\n",
              "        vertical-align: top;\n",
              "    }\n",
              "\n",
              "    .dataframe thead th {\n",
              "        text-align: right;\n",
              "    }\n",
              "</style>\n",
              "<table border=\"1\" class=\"dataframe\">\n",
              "  <thead>\n",
              "    <tr style=\"text-align: right;\">\n",
              "      <th></th>\n",
              "      <th>NO2</th>\n",
              "      <th>RSPM/PM10</th>\n",
              "      <th>year</th>\n",
              "      <th>month</th>\n",
              "      <th>day</th>\n",
              "      <th>day_of_week</th>\n",
              "      <th>weekend</th>\n",
              "      <th>SPM</th>\n",
              "    </tr>\n",
              "    <tr>\n",
              "      <th>Date</th>\n",
              "      <th></th>\n",
              "      <th></th>\n",
              "      <th></th>\n",
              "      <th></th>\n",
              "      <th></th>\n",
              "      <th></th>\n",
              "      <th></th>\n",
              "      <th></th>\n",
              "    </tr>\n",
              "  </thead>\n",
              "  <tbody>\n",
              "    <tr>\n",
              "      <th>2005-01-14</th>\n",
              "      <td>0.169074</td>\n",
              "      <td>0.599034</td>\n",
              "      <td>0.0</td>\n",
              "      <td>0.0</td>\n",
              "      <td>0.433333</td>\n",
              "      <td>0.666667</td>\n",
              "      <td>0.0</td>\n",
              "      <td>0.544122</td>\n",
              "    </tr>\n",
              "    <tr>\n",
              "      <th>2005-01-17</th>\n",
              "      <td>0.244064</td>\n",
              "      <td>0.381643</td>\n",
              "      <td>0.0</td>\n",
              "      <td>0.0</td>\n",
              "      <td>0.533333</td>\n",
              "      <td>0.000000</td>\n",
              "      <td>0.0</td>\n",
              "      <td>0.969055</td>\n",
              "    </tr>\n",
              "    <tr>\n",
              "      <th>2005-01-20</th>\n",
              "      <td>0.306555</td>\n",
              "      <td>0.381643</td>\n",
              "      <td>0.0</td>\n",
              "      <td>0.0</td>\n",
              "      <td>0.633333</td>\n",
              "      <td>0.500000</td>\n",
              "      <td>0.0</td>\n",
              "      <td>0.546713</td>\n",
              "    </tr>\n",
              "    <tr>\n",
              "      <th>2005-01-22</th>\n",
              "      <td>0.256562</td>\n",
              "      <td>0.603865</td>\n",
              "      <td>0.0</td>\n",
              "      <td>0.0</td>\n",
              "      <td>0.700000</td>\n",
              "      <td>0.833333</td>\n",
              "      <td>1.0</td>\n",
              "      <td>0.647764</td>\n",
              "    </tr>\n",
              "    <tr>\n",
              "      <th>2005-01-25</th>\n",
              "      <td>0.234270</td>\n",
              "      <td>0.657005</td>\n",
              "      <td>0.0</td>\n",
              "      <td>0.0</td>\n",
              "      <td>0.800000</td>\n",
              "      <td>0.166667</td>\n",
              "      <td>0.0</td>\n",
              "      <td>0.562259</td>\n",
              "    </tr>\n",
              "  </tbody>\n",
              "</table>\n",
              "</div>"
            ],
            "text/plain": [
              "                 NO2  RSPM/PM10  year  ...  day_of_week  weekend       SPM\n",
              "Date                                   ...                                \n",
              "2005-01-14  0.169074   0.599034   0.0  ...     0.666667      0.0  0.544122\n",
              "2005-01-17  0.244064   0.381643   0.0  ...     0.000000      0.0  0.969055\n",
              "2005-01-20  0.306555   0.381643   0.0  ...     0.500000      0.0  0.546713\n",
              "2005-01-22  0.256562   0.603865   0.0  ...     0.833333      1.0  0.647764\n",
              "2005-01-25  0.234270   0.657005   0.0  ...     0.166667      0.0  0.562259\n",
              "\n",
              "[5 rows x 8 columns]"
            ]
          },
          "metadata": {
            "tags": []
          },
          "execution_count": 94
        }
      ]
    },
    {
      "cell_type": "code",
      "metadata": {
        "id": "cgaok56gP3hR"
      },
      "source": [
        "from numpy import array"
      ],
      "execution_count": null,
      "outputs": []
    },
    {
      "cell_type": "code",
      "metadata": {
        "id": "5fXllNtpPavF"
      },
      "source": [
        "def split_sequences(sequences, n_steps_in, n_steps_out):\n",
        "\tX, y = list(), list()\n",
        "\tfor i in range(len(sequences)):\n",
        "\t\t# find the end of this pattern\n",
        "\t\tend_ix = i + n_steps_in\n",
        "\t\tout_end_ix = end_ix + n_steps_out-1\n",
        "\t\t# check if we are beyond the dataset\n",
        "\t\tif out_end_ix > len(sequences):\n",
        "\t\t\tbreak\n",
        "\t\t# gather input and output parts of the pattern\n",
        "\t\tseq_x, seq_y = sequences[i:end_ix, :-1], sequences[end_ix-1:out_end_ix, -1]\n",
        "\t\tX.append(seq_x)\n",
        "\t\ty.append(seq_y)\n",
        "\treturn array(X), array(y)\n",
        "\n",
        "\n",
        "# choose a number of time steps\n",
        "n_steps_in, n_steps_out = 35, 7\n",
        "\n",
        "X, y = split_sequences(df_bbsr_cps_after_impute.values, n_steps_in, n_steps_out)\n",
        "\n",
        "X_test, y_test = X[-1], y[-1]\n",
        "\n",
        "for i in range(n_steps_out):\n",
        "\tX = np.delete(X, X.shape[0] - 1, 0)\n",
        "\ty = np.delete(y, y.shape[0] - 1, 0)\n",
        "\n",
        "n_features = X.shape[2]"
      ],
      "execution_count": null,
      "outputs": []
    },
    {
      "cell_type": "code",
      "metadata": {
        "id": "BamTpaAOTHbP",
        "colab": {
          "base_uri": "https://localhost:8080/",
          "height": 53
        },
        "outputId": "d0e3e575-12f6-455a-cf9e-3ca04ac9307a"
      },
      "source": [
        "print(y_test)"
      ],
      "execution_count": null,
      "outputs": [
        {
          "output_type": "stream",
          "text": [
            "[0.00518211 0.03368373 0.01295528 0.02591056 0.02850162 0.02331951\n",
            " 0.03368373]\n"
          ],
          "name": "stdout"
        }
      ]
    },
    {
      "cell_type": "code",
      "metadata": {
        "id": "bMSLLv-pP0hj",
        "colab": {
          "base_uri": "https://localhost:8080/",
          "height": 35
        },
        "outputId": "87affccf-082d-417c-b869-0a855eaf136d"
      },
      "source": [
        "from keras.models import Sequential\n",
        "from keras.layers import Dense\n",
        "from keras.layers import Flatten\n",
        "from keras.layers.convolutional import Conv1D\n",
        "from keras.layers.convolutional import MaxPooling1D\n",
        "from keras.layers import LSTM\n",
        "from keras.layers.normalization import BatchNormalization\n",
        "from keras.layers import Bidirectional\n",
        "model = Sequential()\n",
        "model.add(Bidirectional(GRU(50, activation='relu', return_sequences=True, input_shape=(n_steps_in, n_features))))\n",
        "model.add(Bidirectional(GRU(50, activation='relu')))\n",
        "model.add(Dense(50, activation='relu'))\n",
        "model.add(Dense(50, activation='relu'))\n",
        "model.add(Dense(50, activation='relu'))\n",
        "model.add(Dense(n_steps_out))\n",
        "model.compile(optimizer='RMSProp', loss='mae')\n",
        "\n",
        "print('SUCCESS!!')"
      ],
      "execution_count": null,
      "outputs": [
        {
          "output_type": "stream",
          "text": [
            "SUCCESS!!\n"
          ],
          "name": "stdout"
        }
      ]
    },
    {
      "cell_type": "code",
      "metadata": {
        "id": "Dhl0ZD7MQDRv",
        "colab": {
          "base_uri": "https://localhost:8080/",
          "height": 1000
        },
        "outputId": "dcd47b5d-6034-4b15-e384-d21c9b320714"
      },
      "source": [
        "from tensorflow.keras.callbacks import EarlyStopping\n",
        "\n",
        "monitor = EarlyStopping(monitor='loss', min_delta=1e-2, patience=30, verbose=1, mode='auto',\n",
        "        restore_best_weights=True)\n",
        "model.fit(X, y, callbacks=[monitor], verbose=2, epochs=1000)"
      ],
      "execution_count": null,
      "outputs": [
        {
          "output_type": "stream",
          "text": [
            "Epoch 1/1000\n",
            "28/28 - 1s - loss: 0.1932\n",
            "Epoch 2/1000\n",
            "28/28 - 1s - loss: 0.1595\n",
            "Epoch 3/1000\n",
            "28/28 - 1s - loss: 0.1529\n",
            "Epoch 4/1000\n",
            "28/28 - 1s - loss: 0.1498\n",
            "Epoch 5/1000\n",
            "28/28 - 1s - loss: 0.1491\n",
            "Epoch 6/1000\n",
            "28/28 - 1s - loss: 0.1422\n",
            "Epoch 7/1000\n",
            "28/28 - 1s - loss: 0.1434\n",
            "Epoch 8/1000\n",
            "28/28 - 1s - loss: 0.1388\n",
            "Epoch 9/1000\n",
            "28/28 - 1s - loss: 0.1389\n",
            "Epoch 10/1000\n",
            "28/28 - 1s - loss: 0.1358\n",
            "Epoch 11/1000\n",
            "28/28 - 1s - loss: 0.1357\n",
            "Epoch 12/1000\n",
            "28/28 - 1s - loss: 0.1320\n",
            "Epoch 13/1000\n",
            "28/28 - 1s - loss: 0.1313\n",
            "Epoch 14/1000\n",
            "28/28 - 1s - loss: 0.1300\n",
            "Epoch 15/1000\n",
            "28/28 - 1s - loss: 0.1293\n",
            "Epoch 16/1000\n",
            "28/28 - 1s - loss: 0.1264\n",
            "Epoch 17/1000\n",
            "28/28 - 1s - loss: 0.1261\n",
            "Epoch 18/1000\n",
            "28/28 - 1s - loss: 0.1249\n",
            "Epoch 19/1000\n",
            "28/28 - 1s - loss: 0.1258\n",
            "Epoch 20/1000\n",
            "28/28 - 1s - loss: 0.1223\n",
            "Epoch 21/1000\n",
            "28/28 - 1s - loss: 0.1222\n",
            "Epoch 22/1000\n",
            "28/28 - 1s - loss: 0.1194\n",
            "Epoch 23/1000\n",
            "28/28 - 1s - loss: 0.1182\n",
            "Epoch 24/1000\n",
            "28/28 - 1s - loss: 0.1182\n",
            "Epoch 25/1000\n",
            "28/28 - 1s - loss: 0.1166\n",
            "Epoch 26/1000\n",
            "28/28 - 1s - loss: 0.1151\n",
            "Epoch 27/1000\n",
            "28/28 - 1s - loss: 0.1155\n",
            "Epoch 28/1000\n",
            "28/28 - 1s - loss: 0.1141\n",
            "Epoch 29/1000\n",
            "28/28 - 1s - loss: 0.1138\n",
            "Epoch 30/1000\n",
            "28/28 - 1s - loss: 0.1125\n",
            "Epoch 31/1000\n",
            "28/28 - 1s - loss: 0.1117\n",
            "Epoch 32/1000\n",
            "28/28 - 1s - loss: 0.1109\n",
            "Epoch 33/1000\n",
            "28/28 - 1s - loss: 0.1119\n",
            "Epoch 34/1000\n",
            "28/28 - 1s - loss: 0.1101\n",
            "Epoch 35/1000\n",
            "28/28 - 1s - loss: 0.1074\n",
            "Epoch 36/1000\n",
            "28/28 - 1s - loss: 0.1078\n",
            "Epoch 37/1000\n",
            "28/28 - 1s - loss: 0.1085\n",
            "Epoch 38/1000\n",
            "28/28 - 1s - loss: 0.1081\n",
            "Epoch 39/1000\n",
            "28/28 - 1s - loss: 0.1070\n",
            "Epoch 40/1000\n",
            "28/28 - 1s - loss: 0.1058\n",
            "Epoch 41/1000\n",
            "28/28 - 1s - loss: 0.1056\n",
            "Epoch 42/1000\n",
            "28/28 - 1s - loss: 0.1045\n",
            "Epoch 43/1000\n",
            "28/28 - 1s - loss: 0.1063\n",
            "Epoch 44/1000\n",
            "28/28 - 1s - loss: 0.1035\n",
            "Epoch 45/1000\n",
            "28/28 - 1s - loss: 0.1024\n",
            "Epoch 46/1000\n",
            "28/28 - 1s - loss: 0.1027\n",
            "Epoch 47/1000\n",
            "28/28 - 1s - loss: 0.1021\n",
            "Epoch 48/1000\n",
            "28/28 - 1s - loss: 0.1018\n",
            "Epoch 49/1000\n",
            "28/28 - 1s - loss: 0.1012\n",
            "Epoch 50/1000\n",
            "28/28 - 1s - loss: 0.1022\n",
            "Epoch 51/1000\n",
            "28/28 - 2s - loss: 0.1008\n",
            "Epoch 52/1000\n",
            "28/28 - 2s - loss: 0.0998\n",
            "Epoch 53/1000\n",
            "28/28 - 1s - loss: 0.0988\n",
            "Epoch 54/1000\n",
            "28/28 - 1s - loss: 0.0989\n",
            "Epoch 55/1000\n",
            "28/28 - 1s - loss: 0.0989\n",
            "Epoch 56/1000\n",
            "28/28 - 1s - loss: 0.0969\n",
            "Epoch 57/1000\n",
            "28/28 - 1s - loss: 0.0981\n",
            "Epoch 58/1000\n",
            "28/28 - 1s - loss: 0.0963\n",
            "Epoch 59/1000\n",
            "28/28 - 1s - loss: 0.0965\n",
            "Epoch 60/1000\n",
            "28/28 - 1s - loss: 0.0957\n",
            "Epoch 61/1000\n",
            "28/28 - 1s - loss: 0.0966\n",
            "Epoch 62/1000\n",
            "28/28 - 1s - loss: 0.0955\n",
            "Epoch 63/1000\n",
            "28/28 - 1s - loss: 0.0952\n",
            "Epoch 64/1000\n",
            "28/28 - 1s - loss: 0.0944\n",
            "Epoch 65/1000\n",
            "28/28 - 1s - loss: 0.0941\n",
            "Epoch 66/1000\n",
            "28/28 - 1s - loss: 0.0946\n",
            "Epoch 67/1000\n",
            "28/28 - 1s - loss: 0.0936\n",
            "Epoch 68/1000\n",
            "28/28 - 1s - loss: 0.0933\n",
            "Epoch 69/1000\n",
            "28/28 - 1s - loss: 0.0934\n",
            "Epoch 70/1000\n",
            "28/28 - 1s - loss: 0.0922\n",
            "Epoch 71/1000\n",
            "28/28 - 1s - loss: 0.0925\n",
            "Epoch 72/1000\n",
            "28/28 - 1s - loss: 0.0920\n",
            "Epoch 73/1000\n",
            "28/28 - 1s - loss: 0.0917\n",
            "Epoch 74/1000\n",
            "28/28 - 1s - loss: 0.0916\n",
            "Epoch 75/1000\n",
            "28/28 - 1s - loss: 0.0905\n",
            "Epoch 76/1000\n",
            "28/28 - 1s - loss: 0.0909\n",
            "Epoch 77/1000\n",
            "28/28 - 1s - loss: 0.0904\n",
            "Epoch 78/1000\n",
            "28/28 - 1s - loss: 0.0900\n",
            "Epoch 79/1000\n",
            "28/28 - 2s - loss: 0.0895\n",
            "Epoch 80/1000\n",
            "28/28 - 1s - loss: 0.0893\n",
            "Epoch 81/1000\n",
            "28/28 - 1s - loss: 0.0899\n",
            "Epoch 82/1000\n",
            "28/28 - 1s - loss: 0.0892\n",
            "Epoch 83/1000\n",
            "28/28 - 1s - loss: 0.0882\n",
            "Epoch 84/1000\n",
            "28/28 - 1s - loss: 0.0883\n",
            "Epoch 85/1000\n",
            "28/28 - 1s - loss: 0.0884\n",
            "Epoch 86/1000\n",
            "28/28 - 1s - loss: 0.0880\n",
            "Epoch 87/1000\n",
            "28/28 - 1s - loss: 0.0871\n",
            "Epoch 88/1000\n",
            "28/28 - 1s - loss: 0.0876\n",
            "Epoch 89/1000\n",
            "28/28 - 1s - loss: 0.0868\n",
            "Epoch 90/1000\n",
            "28/28 - 1s - loss: 0.0873\n",
            "Epoch 91/1000\n",
            "28/28 - 1s - loss: 0.0861\n",
            "Epoch 92/1000\n",
            "28/28 - 1s - loss: 0.0865\n",
            "Epoch 93/1000\n",
            "28/28 - 1s - loss: 0.0871\n",
            "Epoch 94/1000\n",
            "Restoring model weights from the end of the best epoch.\n",
            "28/28 - 1s - loss: 0.0858\n",
            "Epoch 00094: early stopping\n"
          ],
          "name": "stdout"
        },
        {
          "output_type": "execute_result",
          "data": {
            "text/plain": [
              "<tensorflow.python.keras.callbacks.History at 0x7f308da7b630>"
            ]
          },
          "metadata": {
            "tags": []
          },
          "execution_count": 108
        }
      ]
    },
    {
      "cell_type": "code",
      "metadata": {
        "id": "x86kJgK-ZH1T"
      },
      "source": [
        "model.save('CPS_Model_SPM.h5')\n"
      ],
      "execution_count": null,
      "outputs": []
    },
    {
      "cell_type": "code",
      "metadata": {
        "id": "Kdkl3gq1Xd5M",
        "colab": {
          "base_uri": "https://localhost:8080/",
          "height": 128
        },
        "outputId": "f4b0e2e0-273b-49fc-c3de-036e1855567a"
      },
      "source": [
        "x_input = array(X_test)\n",
        "x_input = x_input.reshape((1, n_steps_in, n_features))\n",
        "yhat = model.predict(x_input, verbose=1)\n",
        "print((yhat[0]*std_dev_ospcb)+mean_ospcb)\n",
        "print((y_test*std_dev_ospcb)+mean_ospcb)"
      ],
      "execution_count": null,
      "outputs": [
        {
          "output_type": "stream",
          "text": [
            "WARNING:tensorflow:6 out of the last 7 calls to <function Model.make_predict_function.<locals>.predict_function at 0x7f308c6a1400> triggered tf.function retracing. Tracing is expensive and the excessive number of tracings could be due to (1) creating @tf.function repeatedly in a loop, (2) passing tensors with different shapes, (3) passing Python objects instead of tensors. For (1), please define your @tf.function outside of the loop. For (2), @tf.function has experimental_relax_shapes=True option that relaxes argument shapes that can avoid unnecessary retracing. For (3), please refer to https://www.tensorflow.org/tutorials/customization/performance#python_or_tensor_args and https://www.tensorflow.org/api_docs/python/tf/function for  more details.\n",
            "1/1 [==============================] - 0s 1ms/step\n",
            "[41.339584 32.411148 21.677185 27.96973  26.3823   24.386395 39.87899 ]\n",
            "[13.41515996 37.69853974 20.0378999  31.0757998  33.28337978 28.86821982\n",
            " 37.69853974]\n"
          ],
          "name": "stdout"
        }
      ]
    },
    {
      "cell_type": "code",
      "metadata": {
        "id": "NRe7RAFQLYnI",
        "colab": {
          "base_uri": "https://localhost:8080/",
          "height": 72
        },
        "outputId": "24ef2770-8cab-4a79-e9f3-60f598226ea2"
      },
      "source": [
        "y_test = (y_test*std_dev_ospcb)+mean_ospcb\n",
        "yhat = (yhat[0]*std_dev_ospcb)+mean_ospcb\n",
        "print(yhat)\n",
        "print(y_test)"
      ],
      "execution_count": null,
      "outputs": [
        {
          "output_type": "stream",
          "text": [
            "[41.339584 32.411148 21.677185 27.96973  26.3823   24.386395 39.87899 ]\n",
            "[13.41515996 37.69853974 20.0378999  31.0757998  33.28337978 28.86821982\n",
            " 37.69853974]\n"
          ],
          "name": "stdout"
        }
      ]
    },
    {
      "cell_type": "code",
      "metadata": {
        "id": "k-EtMODAXJyh",
        "colab": {
          "base_uri": "https://localhost:8080/",
          "height": 505
        },
        "outputId": "4df5884d-025e-44b1-f4e5-cf0b6999b2f1"
      },
      "source": [
        "plt.plot((yhat),label = 'Predicted', linewidth = 3)\n",
        "plt.plot((y_test), label = 'Actual', linewidth = 3)\n",
        "plt.xlabel('Time (in days)', fontsize = 'xx-large', fontweight = 'bold')\n",
        "plt.ylabel('PM10 (in µg/m3)', fontsize = 'xx-large', fontweight = 'bold')\n",
        "plt.legend(prop = {'size': 16})\n",
        "plt.show()"
      ],
      "execution_count": null,
      "outputs": [
        {
          "output_type": "display_data",
          "data": {
            "image/png": "[encoded data removed]",
            "text/plain": [
              "<Figure size 1080x576 with 1 Axes>"
            ]
          },
          "metadata": {
            "tags": [],
            "needs_background": "light"
          }
        }
      ]
    },
    {
      "cell_type": "code",
      "metadata": {
        "id": "W0j9eCxj_NVi",
        "colab": {
          "base_uri": "https://localhost:8080/",
          "height": 90
        },
        "outputId": "7980f9b0-a649-4eb7-efc1-090b5f46378c"
      },
      "source": [
        "from sklearn.metrics import mean_squared_error\n",
        "from sklearn.metrics import mean_absolute_error\n",
        "from math import sqrt\n",
        "def mean_absolute_percentage_error(y_true, y_pred): \n",
        "   return np.mean(np.abs((y_true - y_pred) / y_true)) * 100\n",
        "\n",
        "\n",
        "rms_new = sqrt(mean_squared_error(y_test, yhat))\n",
        "print(rms_new)\n",
        "\n",
        "mse_new = mean_squared_error(y_test, yhat)\n",
        "print(mse_new)\n",
        "\n",
        "mae_new = mean_absolute_error(y_test, yhat)\n",
        "print(mae_new)\n",
        "\n",
        "mape_new = mean_absolute_percentage_error(y_test, yhat)\n",
        "print(mape_new)"
      ],
      "execution_count": null,
      "outputs": [
        {
          "output_type": "stream",
          "text": [
            "11.291785533446223\n",
            "127.50442053334541\n",
            "7.360075250857003\n",
            "40.34294186505533\n"
          ],
          "name": "stdout"
        }
      ]
    },
    {
      "cell_type": "code",
      "metadata": {
        "id": "hgYwoTvvQkFu"
      },
      "source": [
        ""
      ],
      "execution_count": null,
      "outputs": []
    }
  ]
}