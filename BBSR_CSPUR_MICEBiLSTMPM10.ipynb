{
  "nbformat": 4,
  "nbformat_minor": 0,
  "metadata": {
    "colab": {
      "name": "BBSR_CSPUR_MICEBiLSTMPM10.ipynb",
      "provenance": [],
      "collapsed_sections": []
    },
    "kernelspec": {
      "name": "python3",
      "display_name": "Python 3"
    }
  },
  "cells": [
    {
      "cell_type": "code",
      "metadata": {
        "id": "3A3jVkDrEBGd"
      },
      "source": [
        "import pandas as pd          \n",
        "import numpy as np          # For mathematical calculations\n",
        "import matplotlib.pyplot as plt  # For plotting graphs\n",
        "from datetime import datetime    # To access datetime\n",
        "from pandas import Series        # To work on series\n",
        "import matplotlib\n",
        "import warnings                   # To ignore the warnings\n",
        "warnings.filterwarnings(\"ignore\")\n",
        "from math import sqrt\n",
        "from sklearn import metrics\n",
        "from sklearn.metrics import mean_squared_error\n",
        "from sklearn.metrics import mean_absolute_error"
      ],
      "execution_count": null,
      "outputs": []
    },
    {
      "cell_type": "code",
      "metadata": {
        "id": "Yztm-hMoFJqL"
      },
      "source": [
        "df = pd.read_excel('Merged_pollution_dataset.xlsx')\n",
        "df_bbsr = df[(df['City/Town/Village/Area'] == 'Bhubaneswar') | (df['City/Town/Village/Area'] == 'Bhubaneshwar')]\n",
        "\n",
        "df_bbsr.dtypes\n",
        "\n",
        "df_bbsr['RSPM/PM10'] = pd.to_numeric(df_bbsr['RSPM/PM10'], errors='coerce')\n",
        "df_bbsr['SO2'] = pd.to_numeric(df_bbsr['SO2'], errors='coerce')\n",
        "df_bbsr['NO2'] = pd.to_numeric(df_bbsr['NO2'], errors='coerce')\n",
        "df_bbsr['SPM'] = pd.to_numeric(df_bbsr['SPM'], errors='coerce')\n",
        "\n",
        "pol_obs = 'SPM'"
      ],
      "execution_count": null,
      "outputs": []
    },
    {
      "cell_type": "code",
      "metadata": {
        "id": "CPnogL_dFZ2F"
      },
      "source": [
        "df_bbsr['Location of Monitoring Station'].replace('SPCB Building, Bhubaneshwar', 'OSPCB Bldg',inplace=True)\n",
        "df_bbsr['Location of Monitoring Station'].replace('Capital Police Station, Bhubaneshwar', 'Capital Police Stn.',inplace=True)\n",
        "df_bbsr['Location of Monitoring Station'].replace('IRC Vilage, Bhubaneshwar', 'IRC',inplace=True)\n",
        "df_bbsr['Location of Monitoring Station'].replace('Chandrasekharpur. Bhubneswar', 'Chandrasekharpur',inplace=True)\n",
        "df_bbsr['Location of Monitoring Station'].replace('Water works, Palasuni, Bhubneswar', 'Palasuni',inplace=True)\n",
        "df_bbsr['Location of Monitoring Station'].replace('Patrapada, Bhubneswar', 'Patrapada',inplace=True)"
      ],
      "execution_count": null,
      "outputs": []
    },
    {
      "cell_type": "code",
      "metadata": {
        "id": "mmg2SrBcFiyW",
        "colab": {
          "base_uri": "https://localhost:8080/",
          "height": 235
        },
        "outputId": "9c74cb48-9f1d-479c-f2c5-c52c9922b75f"
      },
      "source": [
        "df_bbsr_cps = df_bbsr[(df_bbsr['Location of Monitoring Station'] == 'Chandrasekharpur')]\n",
        "\n",
        "df_bbsr_cps['Sampling Date'] = pd.to_datetime(df_bbsr_cps['Sampling Date'], format='%Y-%m-%d %H:%M')\n",
        "\n",
        "df_bbsr_cps.dtypes"
      ],
      "execution_count": null,
      "outputs": [
        {
          "output_type": "execute_result",
          "data": {
            "text/plain": [
              "Stn Code                                 float64\n",
              "Sampling Date                     datetime64[ns]\n",
              "State                                     object\n",
              "City/Town/Village/Area                    object\n",
              "Location of Monitoring Station            object\n",
              "Agency                                    object\n",
              "Type of Location                          object\n",
              "SO2                                      float64\n",
              "NO2                                      float64\n",
              "RSPM/PM10                                float64\n",
              "SPM                                      float64\n",
              "dtype: object"
            ]
          },
          "metadata": {
            "tags": []
          },
          "execution_count": 158
        }
      ]
    },
    {
      "cell_type": "code",
      "metadata": {
        "id": "lXlunSG9Fo16"
      },
      "source": [
        "from matplotlib.pylab import rcParams\n",
        "rcParams['figure.figsize'] = 15,8"
      ],
      "execution_count": null,
      "outputs": []
    },
    {
      "cell_type": "code",
      "metadata": {
        "id": "J-EvUwpmFrVK",
        "colab": {
          "base_uri": "https://localhost:8080/",
          "height": 501
        },
        "outputId": "f8ec96bb-2b40-4f41-8130-0e5cb1e94847"
      },
      "source": [
        "df_bbsr_cps = df_bbsr_cps.set_index(df_bbsr_cps['Sampling Date'])\n",
        "df_bbsr_cps = df_bbsr_cps.sort_index()\n",
        "plt.plot(df_bbsr_cps[pol_obs])"
      ],
      "execution_count": null,
      "outputs": [
        {
          "output_type": "execute_result",
          "data": {
            "text/plain": [
              "[<matplotlib.lines.Line2D at 0x7f3097cdfe80>]"
            ]
          },
          "metadata": {
            "tags": []
          },
          "execution_count": 160
        },
        {
          "output_type": "display_data",
          "data": {
            "image/png": "[encoded data removed]",
            "text/plain": [
              "<Figure size 1080x576 with 1 Axes>"
            ]
          },
          "metadata": {
            "tags": [],
            "needs_background": "light"
          }
        }
      ]
    },
    {
      "cell_type": "code",
      "metadata": {
        "id": "PMiL2hytFuDa",
        "colab": {
          "base_uri": "https://localhost:8080/",
          "height": 90
        },
        "outputId": "3cd830b8-6a52-44d8-eaab-6fb31d7c566b"
      },
      "source": [
        "df_bbsr_cps = df_bbsr_cps.drop(['Stn Code','State','Location of Monitoring Station',\n",
        "                                'Agency','Type of Location','City/Town/Village/Area','Sampling Date'],axis = 1)\n",
        "\n",
        "cols = df_bbsr_cps.columns\n",
        "\n",
        "for field in cols:\n",
        "   print(field, df_bbsr_cps[field].isna().sum())\n",
        "\n",
        "date_series = df_bbsr_cps.index"
      ],
      "execution_count": null,
      "outputs": [
        {
          "output_type": "stream",
          "text": [
            "SO2 0\n",
            "NO2 0\n",
            "RSPM/PM10 0\n",
            "SPM 32\n"
          ],
          "name": "stdout"
        }
      ]
    },
    {
      "cell_type": "code",
      "metadata": {
        "id": "1iCZ3PxsJ6Ic",
        "colab": {
          "base_uri": "https://localhost:8080/",
          "height": 162
        },
        "outputId": "7ec6392b-b813-499c-f01e-1e2f6e81ba3e"
      },
      "source": [
        "print(date_series)"
      ],
      "execution_count": null,
      "outputs": [
        {
          "output_type": "stream",
          "text": [
            "DatetimeIndex(['2011-05-12', '2011-08-12', '2011-12-12', '2011-12-15',\n",
            "               '2011-12-19', '2011-12-22', '2011-12-26', '2011-12-29',\n",
            "               '2014-03-07', '2014-03-09',\n",
            "               ...\n",
            "               '2015-09-07', '2015-09-10', '2015-09-21', '2015-09-25',\n",
            "               '2015-09-28', '2015-10-05', '2015-10-13', '2015-10-16',\n",
            "               '2015-10-28', '2015-10-31'],\n",
            "              dtype='datetime64[ns]', name='Sampling Date', length=116, freq=None)\n"
          ],
          "name": "stdout"
        }
      ]
    },
    {
      "cell_type": "code",
      "metadata": {
        "id": "l4vpVLhPF2Ja"
      },
      "source": [
        "from fancyimpute import IterativeImputer\n",
        "mice_imputer = IterativeImputer()\n",
        "df_bbsr_cps_imputed =  mice_imputer.fit_transform(df_bbsr_cps)"
      ],
      "execution_count": null,
      "outputs": []
    },
    {
      "cell_type": "code",
      "metadata": {
        "id": "h4wzfPCmGHcW",
        "colab": {
          "base_uri": "https://localhost:8080/",
          "height": 501
        },
        "outputId": "df748e8f-1147-4de0-8fbe-38c0caa13bff"
      },
      "source": [
        "plt.plot(df_bbsr_cps_imputed[:, 0])"
      ],
      "execution_count": null,
      "outputs": [
        {
          "output_type": "execute_result",
          "data": {
            "text/plain": [
              "[<matplotlib.lines.Line2D at 0x7f3097a5f358>]"
            ]
          },
          "metadata": {
            "tags": []
          },
          "execution_count": 164
        },
        {
          "output_type": "display_data",
          "data": {
            "image/png": "[encoded data removed]",
            "text/plain": [
              "<Figure size 1080x576 with 1 Axes>"
            ]
          },
          "metadata": {
            "tags": [],
            "needs_background": "light"
          }
        }
      ]
    },
    {
      "cell_type": "code",
      "metadata": {
        "id": "OvV4oKeOGNn8",
        "colab": {
          "base_uri": "https://localhost:8080/",
          "height": 206
        },
        "outputId": "86043cae-9aa4-414f-9466-9bbd6f7d1b81"
      },
      "source": [
        "df_bbsr_cps_after_impute = pd.DataFrame(data = df_bbsr_cps_imputed, columns = df_bbsr_cps.columns)\n",
        "df_bbsr_cps_after_impute.head()"
      ],
      "execution_count": null,
      "outputs": [
        {
          "output_type": "execute_result",
          "data": {
            "text/html": [
              "<div>\n",
              "<style scoped>\n",
              "    .dataframe tbody tr th:only-of-type {\n",
              "        vertical-align: middle;\n",
              "    }\n",
              "\n",
              "    .dataframe tbody tr th {\n",
              "        vertical-align: top;\n",
              "    }\n",
              "\n",
              "    .dataframe thead th {\n",
              "        text-align: right;\n",
              "    }\n",
              "</style>\n",
              "<table border=\"1\" class=\"dataframe\">\n",
              "  <thead>\n",
              "    <tr style=\"text-align: right;\">\n",
              "      <th></th>\n",
              "      <th>SO2</th>\n",
              "      <th>NO2</th>\n",
              "      <th>RSPM/PM10</th>\n",
              "      <th>SPM</th>\n",
              "    </tr>\n",
              "  </thead>\n",
              "  <tbody>\n",
              "    <tr>\n",
              "      <th>0</th>\n",
              "      <td>2.0</td>\n",
              "      <td>40.400000</td>\n",
              "      <td>122.666667</td>\n",
              "      <td>59.260890</td>\n",
              "    </tr>\n",
              "    <tr>\n",
              "      <th>1</th>\n",
              "      <td>2.0</td>\n",
              "      <td>33.133333</td>\n",
              "      <td>203.000000</td>\n",
              "      <td>63.796112</td>\n",
              "    </tr>\n",
              "    <tr>\n",
              "      <th>2</th>\n",
              "      <td>2.0</td>\n",
              "      <td>34.033333</td>\n",
              "      <td>146.333333</td>\n",
              "      <td>55.778242</td>\n",
              "    </tr>\n",
              "    <tr>\n",
              "      <th>3</th>\n",
              "      <td>2.0</td>\n",
              "      <td>21.500000</td>\n",
              "      <td>160.000000</td>\n",
              "      <td>43.667724</td>\n",
              "    </tr>\n",
              "    <tr>\n",
              "      <th>4</th>\n",
              "      <td>2.0</td>\n",
              "      <td>35.100000</td>\n",
              "      <td>185.666667</td>\n",
              "      <td>63.272258</td>\n",
              "    </tr>\n",
              "  </tbody>\n",
              "</table>\n",
              "</div>"
            ],
            "text/plain": [
              "   SO2        NO2   RSPM/PM10        SPM\n",
              "0  2.0  40.400000  122.666667  59.260890\n",
              "1  2.0  33.133333  203.000000  63.796112\n",
              "2  2.0  34.033333  146.333333  55.778242\n",
              "3  2.0  21.500000  160.000000  43.667724\n",
              "4  2.0  35.100000  185.666667  63.272258"
            ]
          },
          "metadata": {
            "tags": []
          },
          "execution_count": 165
        }
      ]
    },
    {
      "cell_type": "code",
      "metadata": {
        "id": "ACj0gI0JHaOn",
        "colab": {
          "base_uri": "https://localhost:8080/",
          "height": 206
        },
        "outputId": "d27c2d04-63f7-4df4-99c3-00eb4bb7ff6b"
      },
      "source": [
        "df_bbsr_cps_after_impute['Date'] = date_series\n",
        "df_bbsr_cps_after_impute.head()"
      ],
      "execution_count": null,
      "outputs": [
        {
          "output_type": "execute_result",
          "data": {
            "text/html": [
              "<div>\n",
              "<style scoped>\n",
              "    .dataframe tbody tr th:only-of-type {\n",
              "        vertical-align: middle;\n",
              "    }\n",
              "\n",
              "    .dataframe tbody tr th {\n",
              "        vertical-align: top;\n",
              "    }\n",
              "\n",
              "    .dataframe thead th {\n",
              "        text-align: right;\n",
              "    }\n",
              "</style>\n",
              "<table border=\"1\" class=\"dataframe\">\n",
              "  <thead>\n",
              "    <tr style=\"text-align: right;\">\n",
              "      <th></th>\n",
              "      <th>SO2</th>\n",
              "      <th>NO2</th>\n",
              "      <th>RSPM/PM10</th>\n",
              "      <th>SPM</th>\n",
              "      <th>Date</th>\n",
              "    </tr>\n",
              "  </thead>\n",
              "  <tbody>\n",
              "    <tr>\n",
              "      <th>0</th>\n",
              "      <td>2.0</td>\n",
              "      <td>40.400000</td>\n",
              "      <td>122.666667</td>\n",
              "      <td>59.260890</td>\n",
              "      <td>2011-05-12</td>\n",
              "    </tr>\n",
              "    <tr>\n",
              "      <th>1</th>\n",
              "      <td>2.0</td>\n",
              "      <td>33.133333</td>\n",
              "      <td>203.000000</td>\n",
              "      <td>63.796112</td>\n",
              "      <td>2011-08-12</td>\n",
              "    </tr>\n",
              "    <tr>\n",
              "      <th>2</th>\n",
              "      <td>2.0</td>\n",
              "      <td>34.033333</td>\n",
              "      <td>146.333333</td>\n",
              "      <td>55.778242</td>\n",
              "      <td>2011-12-12</td>\n",
              "    </tr>\n",
              "    <tr>\n",
              "      <th>3</th>\n",
              "      <td>2.0</td>\n",
              "      <td>21.500000</td>\n",
              "      <td>160.000000</td>\n",
              "      <td>43.667724</td>\n",
              "      <td>2011-12-15</td>\n",
              "    </tr>\n",
              "    <tr>\n",
              "      <th>4</th>\n",
              "      <td>2.0</td>\n",
              "      <td>35.100000</td>\n",
              "      <td>185.666667</td>\n",
              "      <td>63.272258</td>\n",
              "      <td>2011-12-19</td>\n",
              "    </tr>\n",
              "  </tbody>\n",
              "</table>\n",
              "</div>"
            ],
            "text/plain": [
              "   SO2        NO2   RSPM/PM10        SPM       Date\n",
              "0  2.0  40.400000  122.666667  59.260890 2011-05-12\n",
              "1  2.0  33.133333  203.000000  63.796112 2011-08-12\n",
              "2  2.0  34.033333  146.333333  55.778242 2011-12-12\n",
              "3  2.0  21.500000  160.000000  43.667724 2011-12-15\n",
              "4  2.0  35.100000  185.666667  63.272258 2011-12-19"
            ]
          },
          "metadata": {
            "tags": []
          },
          "execution_count": 166
        }
      ]
    },
    {
      "cell_type": "code",
      "metadata": {
        "id": "6jzK4cYRKAMO",
        "colab": {
          "base_uri": "https://localhost:8080/",
          "height": 237
        },
        "outputId": "caaef140-94f6-4279-f547-d68aeddac37f"
      },
      "source": [
        "df_bbsr_cps_after_impute = df_bbsr_cps_after_impute.set_index(df_bbsr_cps_after_impute['Date'], drop = True)\n",
        "df_bbsr_cps_after_impute = df_bbsr_cps_after_impute.sort_index()\n",
        "df_bbsr_cps_after_impute.head()"
      ],
      "execution_count": null,
      "outputs": [
        {
          "output_type": "execute_result",
          "data": {
            "text/html": [
              "<div>\n",
              "<style scoped>\n",
              "    .dataframe tbody tr th:only-of-type {\n",
              "        vertical-align: middle;\n",
              "    }\n",
              "\n",
              "    .dataframe tbody tr th {\n",
              "        vertical-align: top;\n",
              "    }\n",
              "\n",
              "    .dataframe thead th {\n",
              "        text-align: right;\n",
              "    }\n",
              "</style>\n",
              "<table border=\"1\" class=\"dataframe\">\n",
              "  <thead>\n",
              "    <tr style=\"text-align: right;\">\n",
              "      <th></th>\n",
              "      <th>SO2</th>\n",
              "      <th>NO2</th>\n",
              "      <th>RSPM/PM10</th>\n",
              "      <th>SPM</th>\n",
              "      <th>Date</th>\n",
              "    </tr>\n",
              "    <tr>\n",
              "      <th>Date</th>\n",
              "      <th></th>\n",
              "      <th></th>\n",
              "      <th></th>\n",
              "      <th></th>\n",
              "      <th></th>\n",
              "    </tr>\n",
              "  </thead>\n",
              "  <tbody>\n",
              "    <tr>\n",
              "      <th>2011-05-12</th>\n",
              "      <td>2.0</td>\n",
              "      <td>40.400000</td>\n",
              "      <td>122.666667</td>\n",
              "      <td>59.260890</td>\n",
              "      <td>2011-05-12</td>\n",
              "    </tr>\n",
              "    <tr>\n",
              "      <th>2011-08-12</th>\n",
              "      <td>2.0</td>\n",
              "      <td>33.133333</td>\n",
              "      <td>203.000000</td>\n",
              "      <td>63.796112</td>\n",
              "      <td>2011-08-12</td>\n",
              "    </tr>\n",
              "    <tr>\n",
              "      <th>2011-12-12</th>\n",
              "      <td>2.0</td>\n",
              "      <td>34.033333</td>\n",
              "      <td>146.333333</td>\n",
              "      <td>55.778242</td>\n",
              "      <td>2011-12-12</td>\n",
              "    </tr>\n",
              "    <tr>\n",
              "      <th>2011-12-15</th>\n",
              "      <td>2.0</td>\n",
              "      <td>21.500000</td>\n",
              "      <td>160.000000</td>\n",
              "      <td>43.667724</td>\n",
              "      <td>2011-12-15</td>\n",
              "    </tr>\n",
              "    <tr>\n",
              "      <th>2011-12-19</th>\n",
              "      <td>2.0</td>\n",
              "      <td>35.100000</td>\n",
              "      <td>185.666667</td>\n",
              "      <td>63.272258</td>\n",
              "      <td>2011-12-19</td>\n",
              "    </tr>\n",
              "  </tbody>\n",
              "</table>\n",
              "</div>"
            ],
            "text/plain": [
              "            SO2        NO2   RSPM/PM10        SPM       Date\n",
              "Date                                                        \n",
              "2011-05-12  2.0  40.400000  122.666667  59.260890 2011-05-12\n",
              "2011-08-12  2.0  33.133333  203.000000  63.796112 2011-08-12\n",
              "2011-12-12  2.0  34.033333  146.333333  55.778242 2011-12-12\n",
              "2011-12-15  2.0  21.500000  160.000000  43.667724 2011-12-15\n",
              "2011-12-19  2.0  35.100000  185.666667  63.272258 2011-12-19"
            ]
          },
          "metadata": {
            "tags": []
          },
          "execution_count": 167
        }
      ]
    },
    {
      "cell_type": "code",
      "metadata": {
        "id": "CCKaEhlUKTvV",
        "colab": {
          "base_uri": "https://localhost:8080/",
          "height": 237
        },
        "outputId": "988b0b32-fe88-4b41-e067-3c064572f5d9"
      },
      "source": [
        "df_bbsr_cps_after_impute = df_bbsr_cps_after_impute.drop(['Date'], axis = 1)\n",
        "df_bbsr_cps_after_impute.head()"
      ],
      "execution_count": null,
      "outputs": [
        {
          "output_type": "execute_result",
          "data": {
            "text/html": [
              "<div>\n",
              "<style scoped>\n",
              "    .dataframe tbody tr th:only-of-type {\n",
              "        vertical-align: middle;\n",
              "    }\n",
              "\n",
              "    .dataframe tbody tr th {\n",
              "        vertical-align: top;\n",
              "    }\n",
              "\n",
              "    .dataframe thead th {\n",
              "        text-align: right;\n",
              "    }\n",
              "</style>\n",
              "<table border=\"1\" class=\"dataframe\">\n",
              "  <thead>\n",
              "    <tr style=\"text-align: right;\">\n",
              "      <th></th>\n",
              "      <th>SO2</th>\n",
              "      <th>NO2</th>\n",
              "      <th>RSPM/PM10</th>\n",
              "      <th>SPM</th>\n",
              "    </tr>\n",
              "    <tr>\n",
              "      <th>Date</th>\n",
              "      <th></th>\n",
              "      <th></th>\n",
              "      <th></th>\n",
              "      <th></th>\n",
              "    </tr>\n",
              "  </thead>\n",
              "  <tbody>\n",
              "    <tr>\n",
              "      <th>2011-05-12</th>\n",
              "      <td>2.0</td>\n",
              "      <td>40.400000</td>\n",
              "      <td>122.666667</td>\n",
              "      <td>59.260890</td>\n",
              "    </tr>\n",
              "    <tr>\n",
              "      <th>2011-08-12</th>\n",
              "      <td>2.0</td>\n",
              "      <td>33.133333</td>\n",
              "      <td>203.000000</td>\n",
              "      <td>63.796112</td>\n",
              "    </tr>\n",
              "    <tr>\n",
              "      <th>2011-12-12</th>\n",
              "      <td>2.0</td>\n",
              "      <td>34.033333</td>\n",
              "      <td>146.333333</td>\n",
              "      <td>55.778242</td>\n",
              "    </tr>\n",
              "    <tr>\n",
              "      <th>2011-12-15</th>\n",
              "      <td>2.0</td>\n",
              "      <td>21.500000</td>\n",
              "      <td>160.000000</td>\n",
              "      <td>43.667724</td>\n",
              "    </tr>\n",
              "    <tr>\n",
              "      <th>2011-12-19</th>\n",
              "      <td>2.0</td>\n",
              "      <td>35.100000</td>\n",
              "      <td>185.666667</td>\n",
              "      <td>63.272258</td>\n",
              "    </tr>\n",
              "  </tbody>\n",
              "</table>\n",
              "</div>"
            ],
            "text/plain": [
              "            SO2        NO2   RSPM/PM10        SPM\n",
              "Date                                             \n",
              "2011-05-12  2.0  40.400000  122.666667  59.260890\n",
              "2011-08-12  2.0  33.133333  203.000000  63.796112\n",
              "2011-12-12  2.0  34.033333  146.333333  55.778242\n",
              "2011-12-15  2.0  21.500000  160.000000  43.667724\n",
              "2011-12-19  2.0  35.100000  185.666667  63.272258"
            ]
          },
          "metadata": {
            "tags": []
          },
          "execution_count": 168
        }
      ]
    },
    {
      "cell_type": "code",
      "metadata": {
        "id": "Tj83blE_KpUE",
        "colab": {
          "base_uri": "https://localhost:8080/",
          "height": 237
        },
        "outputId": "50475e82-1afd-482b-ef15-cfecfd27b308"
      },
      "source": [
        "df_index_list = df_bbsr_cps_after_impute.index.values\n",
        "years = pd.DatetimeIndex(df_index_list)\n",
        "list_year = years.year\n",
        "list_month = years.month\n",
        "list_day = years.day\n",
        "list_dayOfWeek = years.dayofweek\n",
        "df_bbsr_cps_after_impute['year'] = list_year \n",
        "df_bbsr_cps_after_impute['month'] = list_month \n",
        "df_bbsr_cps_after_impute['day'] = list_day\n",
        "df_bbsr_cps_after_impute['day_of_week'] = list_dayOfWeek\n",
        "\n",
        "#Determining Weekend\n",
        "def weekend(row):\n",
        "   if (row == 5) or (row == 6):\n",
        "       return 1\n",
        "   else:\n",
        "       return 0\n",
        "\n",
        "df_bbsr_cps_after_impute['weekend'] = df_bbsr_cps_after_impute['day_of_week'].apply(weekend)\n",
        "df_bbsr_cps_after_impute.head()"
      ],
      "execution_count": null,
      "outputs": [
        {
          "output_type": "execute_result",
          "data": {
            "text/html": [
              "<div>\n",
              "<style scoped>\n",
              "    .dataframe tbody tr th:only-of-type {\n",
              "        vertical-align: middle;\n",
              "    }\n",
              "\n",
              "    .dataframe tbody tr th {\n",
              "        vertical-align: top;\n",
              "    }\n",
              "\n",
              "    .dataframe thead th {\n",
              "        text-align: right;\n",
              "    }\n",
              "</style>\n",
              "<table border=\"1\" class=\"dataframe\">\n",
              "  <thead>\n",
              "    <tr style=\"text-align: right;\">\n",
              "      <th></th>\n",
              "      <th>SO2</th>\n",
              "      <th>NO2</th>\n",
              "      <th>RSPM/PM10</th>\n",
              "      <th>SPM</th>\n",
              "      <th>year</th>\n",
              "      <th>month</th>\n",
              "      <th>day</th>\n",
              "      <th>day_of_week</th>\n",
              "      <th>weekend</th>\n",
              "    </tr>\n",
              "    <tr>\n",
              "      <th>Date</th>\n",
              "      <th></th>\n",
              "      <th></th>\n",
              "      <th></th>\n",
              "      <th></th>\n",
              "      <th></th>\n",
              "      <th></th>\n",
              "      <th></th>\n",
              "      <th></th>\n",
              "      <th></th>\n",
              "    </tr>\n",
              "  </thead>\n",
              "  <tbody>\n",
              "    <tr>\n",
              "      <th>2011-05-12</th>\n",
              "      <td>2.0</td>\n",
              "      <td>40.400000</td>\n",
              "      <td>122.666667</td>\n",
              "      <td>59.260890</td>\n",
              "      <td>2011</td>\n",
              "      <td>5</td>\n",
              "      <td>12</td>\n",
              "      <td>3</td>\n",
              "      <td>0</td>\n",
              "    </tr>\n",
              "    <tr>\n",
              "      <th>2011-08-12</th>\n",
              "      <td>2.0</td>\n",
              "      <td>33.133333</td>\n",
              "      <td>203.000000</td>\n",
              "      <td>63.796112</td>\n",
              "      <td>2011</td>\n",
              "      <td>8</td>\n",
              "      <td>12</td>\n",
              "      <td>4</td>\n",
              "      <td>0</td>\n",
              "    </tr>\n",
              "    <tr>\n",
              "      <th>2011-12-12</th>\n",
              "      <td>2.0</td>\n",
              "      <td>34.033333</td>\n",
              "      <td>146.333333</td>\n",
              "      <td>55.778242</td>\n",
              "      <td>2011</td>\n",
              "      <td>12</td>\n",
              "      <td>12</td>\n",
              "      <td>0</td>\n",
              "      <td>0</td>\n",
              "    </tr>\n",
              "    <tr>\n",
              "      <th>2011-12-15</th>\n",
              "      <td>2.0</td>\n",
              "      <td>21.500000</td>\n",
              "      <td>160.000000</td>\n",
              "      <td>43.667724</td>\n",
              "      <td>2011</td>\n",
              "      <td>12</td>\n",
              "      <td>15</td>\n",
              "      <td>3</td>\n",
              "      <td>0</td>\n",
              "    </tr>\n",
              "    <tr>\n",
              "      <th>2011-12-19</th>\n",
              "      <td>2.0</td>\n",
              "      <td>35.100000</td>\n",
              "      <td>185.666667</td>\n",
              "      <td>63.272258</td>\n",
              "      <td>2011</td>\n",
              "      <td>12</td>\n",
              "      <td>19</td>\n",
              "      <td>0</td>\n",
              "      <td>0</td>\n",
              "    </tr>\n",
              "  </tbody>\n",
              "</table>\n",
              "</div>"
            ],
            "text/plain": [
              "            SO2        NO2   RSPM/PM10  ...  day  day_of_week  weekend\n",
              "Date                                    ...                           \n",
              "2011-05-12  2.0  40.400000  122.666667  ...   12            3        0\n",
              "2011-08-12  2.0  33.133333  203.000000  ...   12            4        0\n",
              "2011-12-12  2.0  34.033333  146.333333  ...   12            0        0\n",
              "2011-12-15  2.0  21.500000  160.000000  ...   15            3        0\n",
              "2011-12-19  2.0  35.100000  185.666667  ...   19            0        0\n",
              "\n",
              "[5 rows x 9 columns]"
            ]
          },
          "metadata": {
            "tags": []
          },
          "execution_count": 169
        }
      ]
    },
    {
      "cell_type": "code",
      "metadata": {
        "id": "AzEoOfWHK-Nl"
      },
      "source": [
        "mean_ospcb = df_bbsr_cps_after_impute[pol_obs].min()\n",
        "std_dev_ospcb = df_bbsr_cps_after_impute[pol_obs].max() - df_bbsr_cps_after_impute[pol_obs].min()\n",
        "\n",
        "cols = df_bbsr_cps_after_impute.columns\n",
        "for field in cols:    \n",
        "   df_bbsr_cps_after_impute[field][df_bbsr_cps_after_impute[field] > (df_bbsr_cps_after_impute[field].mean() + 2.5*df_bbsr_cps_after_impute[field].std())] = np.nan\n"
      ],
      "execution_count": null,
      "outputs": []
    },
    {
      "cell_type": "code",
      "metadata": {
        "id": "nZFR1lUrLpBF",
        "colab": {
          "base_uri": "https://localhost:8080/",
          "height": 181
        },
        "outputId": "d26e177c-4e54-43d0-b937-cea7e455f0f0"
      },
      "source": [
        "for field in cols:\n",
        "   print(field, df_bbsr_cps_after_impute[field].isna().sum())"
      ],
      "execution_count": null,
      "outputs": [
        {
          "output_type": "stream",
          "text": [
            "SO2 1\n",
            "NO2 5\n",
            "RSPM/PM10 4\n",
            "SPM 2\n",
            "year 0\n",
            "month 0\n",
            "day 0\n",
            "day_of_week 0\n",
            "weekend 8\n"
          ],
          "name": "stdout"
        }
      ]
    },
    {
      "cell_type": "code",
      "metadata": {
        "id": "BXIUFiv3Lrwf",
        "colab": {
          "base_uri": "https://localhost:8080/",
          "height": 501
        },
        "outputId": "c41e2e6d-616b-4f33-a9db-ecdb47886c8a"
      },
      "source": [
        "plt.plot(df_bbsr_cps_after_impute['RSPM/PM10'])"
      ],
      "execution_count": null,
      "outputs": [
        {
          "output_type": "execute_result",
          "data": {
            "text/plain": [
              "[<matplotlib.lines.Line2D at 0x7f308f997518>]"
            ]
          },
          "metadata": {
            "tags": []
          },
          "execution_count": 132
        },
        {
          "output_type": "display_data",
          "data": {
            "image/png": "[encoded data removed]",
            "text/plain": [
              "<Figure size 1080x576 with 1 Axes>"
            ]
          },
          "metadata": {
            "tags": [],
            "needs_background": "light"
          }
        }
      ]
    },
    {
      "cell_type": "code",
      "metadata": {
        "id": "bHyC5WIcM5Rq",
        "colab": {
          "base_uri": "https://localhost:8080/",
          "height": 72
        },
        "outputId": "cc427644-b868-4b01-b1a8-47cd56b597b5"
      },
      "source": [
        "print(cols)"
      ],
      "execution_count": null,
      "outputs": [
        {
          "output_type": "stream",
          "text": [
            "Index(['SO2', 'NO2', 'RSPM/PM10', 'SPM', 'year', 'month', 'day', 'day_of_week',\n",
            "       'weekend'],\n",
            "      dtype='object')\n"
          ],
          "name": "stdout"
        }
      ]
    },
    {
      "cell_type": "code",
      "metadata": {
        "id": "zo-X6VktL3gN"
      },
      "source": [
        "for field in cols:\n",
        "  df_bbsr_cps_after_impute[field] = df_bbsr_cps_after_impute[field].interpolate(method = 'spline', order = 3)"
      ],
      "execution_count": null,
      "outputs": []
    },
    {
      "cell_type": "code",
      "metadata": {
        "id": "KhXQTU5ZMP0I",
        "colab": {
          "base_uri": "https://localhost:8080/",
          "height": 181
        },
        "outputId": "a55137ec-337a-4e67-c21f-4fcf1b604f3d"
      },
      "source": [
        "for field in cols:\n",
        "   print(field, df_bbsr_cps_after_impute[field].isna().sum())"
      ],
      "execution_count": null,
      "outputs": [
        {
          "output_type": "stream",
          "text": [
            "SO2 0\n",
            "NO2 3\n",
            "RSPM/PM10 0\n",
            "SPM 0\n",
            "year 0\n",
            "month 0\n",
            "day 0\n",
            "day_of_week 0\n",
            "weekend 0\n"
          ],
          "name": "stdout"
        }
      ]
    },
    {
      "cell_type": "code",
      "metadata": {
        "id": "pSvF-xZtMWku",
        "colab": {
          "base_uri": "https://localhost:8080/",
          "height": 199
        },
        "outputId": "c8925a2b-537f-437e-8541-6ea4f83d373f"
      },
      "source": [
        "df_bbsr_cps_after_impute[pol_obs] = df_bbsr_cps_after_impute[pol_obs].fillna(method = 'backfill')   #Replacing \"nan\" with the previous values\n",
        "df_bbsr_cps_after_impute.isna().sum()"
      ],
      "execution_count": null,
      "outputs": [
        {
          "output_type": "execute_result",
          "data": {
            "text/plain": [
              "SO2            0\n",
              "NO2            3\n",
              "RSPM/PM10      0\n",
              "SPM            0\n",
              "year           0\n",
              "month          0\n",
              "day            0\n",
              "day_of_week    0\n",
              "weekend        0\n",
              "dtype: int64"
            ]
          },
          "metadata": {
            "tags": []
          },
          "execution_count": 136
        }
      ]
    },
    {
      "cell_type": "code",
      "metadata": {
        "id": "hnlY1d-hOTj1",
        "colab": {
          "base_uri": "https://localhost:8080/",
          "height": 199
        },
        "outputId": "19ae0290-32b8-43e4-a1ad-fb6ddaa0cd6e"
      },
      "source": [
        "df_bbsr_cps_after_impute['NO2'] = df_bbsr_cps_after_impute['NO2'].fillna(method = 'backfill')   #Replacing \"nan\" with the previous values\n",
        "df_bbsr_cps_after_impute.isna().sum()"
      ],
      "execution_count": null,
      "outputs": [
        {
          "output_type": "execute_result",
          "data": {
            "text/plain": [
              "SO2            0\n",
              "NO2            0\n",
              "RSPM/PM10      0\n",
              "SPM            0\n",
              "year           0\n",
              "month          0\n",
              "day            0\n",
              "day_of_week    0\n",
              "weekend        0\n",
              "dtype: int64"
            ]
          },
          "metadata": {
            "tags": []
          },
          "execution_count": 138
        }
      ]
    },
    {
      "cell_type": "code",
      "metadata": {
        "id": "CPkNbTttOcec",
        "colab": {
          "base_uri": "https://localhost:8080/",
          "height": 237
        },
        "outputId": "add3d203-da86-4142-e8fe-0d33778ac7cc"
      },
      "source": [
        "df_bbsr_cps_after_impute = df_bbsr_cps_after_impute.drop(['SO2'],axis = 1)\n",
        "df_bbsr_cps_after_impute.head()"
      ],
      "execution_count": null,
      "outputs": [
        {
          "output_type": "execute_result",
          "data": {
            "text/html": [
              "<div>\n",
              "<style scoped>\n",
              "    .dataframe tbody tr th:only-of-type {\n",
              "        vertical-align: middle;\n",
              "    }\n",
              "\n",
              "    .dataframe tbody tr th {\n",
              "        vertical-align: top;\n",
              "    }\n",
              "\n",
              "    .dataframe thead th {\n",
              "        text-align: right;\n",
              "    }\n",
              "</style>\n",
              "<table border=\"1\" class=\"dataframe\">\n",
              "  <thead>\n",
              "    <tr style=\"text-align: right;\">\n",
              "      <th></th>\n",
              "      <th>NO2</th>\n",
              "      <th>RSPM/PM10</th>\n",
              "      <th>SPM</th>\n",
              "      <th>year</th>\n",
              "      <th>month</th>\n",
              "      <th>day</th>\n",
              "      <th>day_of_week</th>\n",
              "      <th>weekend</th>\n",
              "    </tr>\n",
              "    <tr>\n",
              "      <th>Date</th>\n",
              "      <th></th>\n",
              "      <th></th>\n",
              "      <th></th>\n",
              "      <th></th>\n",
              "      <th></th>\n",
              "      <th></th>\n",
              "      <th></th>\n",
              "      <th></th>\n",
              "    </tr>\n",
              "  </thead>\n",
              "  <tbody>\n",
              "    <tr>\n",
              "      <th>2011-05-12</th>\n",
              "      <td>21.500000</td>\n",
              "      <td>122.666667</td>\n",
              "      <td>59.260890</td>\n",
              "      <td>2011</td>\n",
              "      <td>5</td>\n",
              "      <td>12</td>\n",
              "      <td>3</td>\n",
              "      <td>0.0</td>\n",
              "    </tr>\n",
              "    <tr>\n",
              "      <th>2011-08-12</th>\n",
              "      <td>21.500000</td>\n",
              "      <td>203.000000</td>\n",
              "      <td>63.796112</td>\n",
              "      <td>2011</td>\n",
              "      <td>8</td>\n",
              "      <td>12</td>\n",
              "      <td>4</td>\n",
              "      <td>0.0</td>\n",
              "    </tr>\n",
              "    <tr>\n",
              "      <th>2011-12-12</th>\n",
              "      <td>21.500000</td>\n",
              "      <td>146.333333</td>\n",
              "      <td>55.778242</td>\n",
              "      <td>2011</td>\n",
              "      <td>12</td>\n",
              "      <td>12</td>\n",
              "      <td>0</td>\n",
              "      <td>0.0</td>\n",
              "    </tr>\n",
              "    <tr>\n",
              "      <th>2011-12-15</th>\n",
              "      <td>21.500000</td>\n",
              "      <td>160.000000</td>\n",
              "      <td>43.667724</td>\n",
              "      <td>2011</td>\n",
              "      <td>12</td>\n",
              "      <td>15</td>\n",
              "      <td>3</td>\n",
              "      <td>0.0</td>\n",
              "    </tr>\n",
              "    <tr>\n",
              "      <th>2011-12-19</th>\n",
              "      <td>18.321793</td>\n",
              "      <td>185.666667</td>\n",
              "      <td>63.272258</td>\n",
              "      <td>2011</td>\n",
              "      <td>12</td>\n",
              "      <td>19</td>\n",
              "      <td>0</td>\n",
              "      <td>0.0</td>\n",
              "    </tr>\n",
              "  </tbody>\n",
              "</table>\n",
              "</div>"
            ],
            "text/plain": [
              "                  NO2   RSPM/PM10        SPM  ...  day  day_of_week  weekend\n",
              "Date                                          ...                           \n",
              "2011-05-12  21.500000  122.666667  59.260890  ...   12            3      0.0\n",
              "2011-08-12  21.500000  203.000000  63.796112  ...   12            4      0.0\n",
              "2011-12-12  21.500000  146.333333  55.778242  ...   12            0      0.0\n",
              "2011-12-15  21.500000  160.000000  43.667724  ...   15            3      0.0\n",
              "2011-12-19  18.321793  185.666667  63.272258  ...   19            0      0.0\n",
              "\n",
              "[5 rows x 8 columns]"
            ]
          },
          "metadata": {
            "tags": []
          },
          "execution_count": 139
        }
      ]
    },
    {
      "cell_type": "code",
      "metadata": {
        "id": "BtOhsHtVOxZJ",
        "colab": {
          "base_uri": "https://localhost:8080/",
          "height": 237
        },
        "outputId": "189292ca-e0c7-479a-8525-89ff426a78a6"
      },
      "source": [
        "cols = df_bbsr_cps_after_impute.columns\n",
        "for field in cols:\n",
        "   df_bbsr_cps_after_impute[field] = (df_bbsr_cps_after_impute[field] - df_bbsr_cps_after_impute[field].min())/(df_bbsr_cps_after_impute[field].max() - df_bbsr_cps_after_impute[field].min())\n",
        "\n",
        "df_bbsr_cps_after_impute.head()"
      ],
      "execution_count": null,
      "outputs": [
        {
          "output_type": "execute_result",
          "data": {
            "text/html": [
              "<div>\n",
              "<style scoped>\n",
              "    .dataframe tbody tr th:only-of-type {\n",
              "        vertical-align: middle;\n",
              "    }\n",
              "\n",
              "    .dataframe tbody tr th {\n",
              "        vertical-align: top;\n",
              "    }\n",
              "\n",
              "    .dataframe thead th {\n",
              "        text-align: right;\n",
              "    }\n",
              "</style>\n",
              "<table border=\"1\" class=\"dataframe\">\n",
              "  <thead>\n",
              "    <tr style=\"text-align: right;\">\n",
              "      <th></th>\n",
              "      <th>NO2</th>\n",
              "      <th>RSPM/PM10</th>\n",
              "      <th>SPM</th>\n",
              "      <th>year</th>\n",
              "      <th>month</th>\n",
              "      <th>day</th>\n",
              "      <th>day_of_week</th>\n",
              "      <th>weekend</th>\n",
              "    </tr>\n",
              "    <tr>\n",
              "      <th>Date</th>\n",
              "      <th></th>\n",
              "      <th></th>\n",
              "      <th></th>\n",
              "      <th></th>\n",
              "      <th></th>\n",
              "      <th></th>\n",
              "      <th></th>\n",
              "      <th></th>\n",
              "    </tr>\n",
              "  </thead>\n",
              "  <tbody>\n",
              "    <tr>\n",
              "      <th>2011-05-12</th>\n",
              "      <td>0.695565</td>\n",
              "      <td>0.550645</td>\n",
              "      <td>0.824789</td>\n",
              "      <td>0.0</td>\n",
              "      <td>0.363636</td>\n",
              "      <td>0.344828</td>\n",
              "      <td>0.500000</td>\n",
              "      <td>NaN</td>\n",
              "    </tr>\n",
              "    <tr>\n",
              "      <th>2011-08-12</th>\n",
              "      <td>0.695565</td>\n",
              "      <td>0.994475</td>\n",
              "      <td>0.892479</td>\n",
              "      <td>0.0</td>\n",
              "      <td>0.636364</td>\n",
              "      <td>0.344828</td>\n",
              "      <td>0.666667</td>\n",
              "      <td>NaN</td>\n",
              "    </tr>\n",
              "    <tr>\n",
              "      <th>2011-12-12</th>\n",
              "      <td>0.695565</td>\n",
              "      <td>0.681400</td>\n",
              "      <td>0.772810</td>\n",
              "      <td>0.0</td>\n",
              "      <td>1.000000</td>\n",
              "      <td>0.344828</td>\n",
              "      <td>0.000000</td>\n",
              "      <td>NaN</td>\n",
              "    </tr>\n",
              "    <tr>\n",
              "      <th>2011-12-15</th>\n",
              "      <td>0.695565</td>\n",
              "      <td>0.756906</td>\n",
              "      <td>0.592056</td>\n",
              "      <td>0.0</td>\n",
              "      <td>1.000000</td>\n",
              "      <td>0.448276</td>\n",
              "      <td>0.500000</td>\n",
              "      <td>NaN</td>\n",
              "    </tr>\n",
              "    <tr>\n",
              "      <th>2011-12-19</th>\n",
              "      <td>0.503334</td>\n",
              "      <td>0.898711</td>\n",
              "      <td>0.884661</td>\n",
              "      <td>0.0</td>\n",
              "      <td>1.000000</td>\n",
              "      <td>0.586207</td>\n",
              "      <td>0.000000</td>\n",
              "      <td>NaN</td>\n",
              "    </tr>\n",
              "  </tbody>\n",
              "</table>\n",
              "</div>"
            ],
            "text/plain": [
              "                 NO2  RSPM/PM10       SPM  ...       day  day_of_week  weekend\n",
              "Date                                       ...                                \n",
              "2011-05-12  0.695565   0.550645  0.824789  ...  0.344828     0.500000      NaN\n",
              "2011-08-12  0.695565   0.994475  0.892479  ...  0.344828     0.666667      NaN\n",
              "2011-12-12  0.695565   0.681400  0.772810  ...  0.344828     0.000000      NaN\n",
              "2011-12-15  0.695565   0.756906  0.592056  ...  0.448276     0.500000      NaN\n",
              "2011-12-19  0.503334   0.898711  0.884661  ...  0.586207     0.000000      NaN\n",
              "\n",
              "[5 rows x 8 columns]"
            ]
          },
          "metadata": {
            "tags": []
          },
          "execution_count": 140
        }
      ]
    },
    {
      "cell_type": "code",
      "metadata": {
        "id": "YaWo6Fc5eP9e",
        "colab": {
          "base_uri": "https://localhost:8080/",
          "height": 237
        },
        "outputId": "973cc9ba-41a9-4acb-9450-adfa5156491b"
      },
      "source": [
        "df_bbsr_cps_after_impute = df_bbsr_cps_after_impute[['NO2','RSPM/PM10','year','month','day','day_of_week','weekend','SPM']]\n",
        "df_bbsr_cps_after_impute.head()"
      ],
      "execution_count": null,
      "outputs": [
        {
          "output_type": "execute_result",
          "data": {
            "text/html": [
              "<div>\n",
              "<style scoped>\n",
              "    .dataframe tbody tr th:only-of-type {\n",
              "        vertical-align: middle;\n",
              "    }\n",
              "\n",
              "    .dataframe tbody tr th {\n",
              "        vertical-align: top;\n",
              "    }\n",
              "\n",
              "    .dataframe thead th {\n",
              "        text-align: right;\n",
              "    }\n",
              "</style>\n",
              "<table border=\"1\" class=\"dataframe\">\n",
              "  <thead>\n",
              "    <tr style=\"text-align: right;\">\n",
              "      <th></th>\n",
              "      <th>NO2</th>\n",
              "      <th>RSPM/PM10</th>\n",
              "      <th>year</th>\n",
              "      <th>month</th>\n",
              "      <th>day</th>\n",
              "      <th>day_of_week</th>\n",
              "      <th>weekend</th>\n",
              "      <th>SPM</th>\n",
              "    </tr>\n",
              "    <tr>\n",
              "      <th>Date</th>\n",
              "      <th></th>\n",
              "      <th></th>\n",
              "      <th></th>\n",
              "      <th></th>\n",
              "      <th></th>\n",
              "      <th></th>\n",
              "      <th></th>\n",
              "      <th></th>\n",
              "    </tr>\n",
              "  </thead>\n",
              "  <tbody>\n",
              "    <tr>\n",
              "      <th>2011-05-12</th>\n",
              "      <td>0.695565</td>\n",
              "      <td>0.550645</td>\n",
              "      <td>0.0</td>\n",
              "      <td>0.363636</td>\n",
              "      <td>0.344828</td>\n",
              "      <td>0.500000</td>\n",
              "      <td>NaN</td>\n",
              "      <td>0.824789</td>\n",
              "    </tr>\n",
              "    <tr>\n",
              "      <th>2011-08-12</th>\n",
              "      <td>0.695565</td>\n",
              "      <td>0.994475</td>\n",
              "      <td>0.0</td>\n",
              "      <td>0.636364</td>\n",
              "      <td>0.344828</td>\n",
              "      <td>0.666667</td>\n",
              "      <td>NaN</td>\n",
              "      <td>0.892479</td>\n",
              "    </tr>\n",
              "    <tr>\n",
              "      <th>2011-12-12</th>\n",
              "      <td>0.695565</td>\n",
              "      <td>0.681400</td>\n",
              "      <td>0.0</td>\n",
              "      <td>1.000000</td>\n",
              "      <td>0.344828</td>\n",
              "      <td>0.000000</td>\n",
              "      <td>NaN</td>\n",
              "      <td>0.772810</td>\n",
              "    </tr>\n",
              "    <tr>\n",
              "      <th>2011-12-15</th>\n",
              "      <td>0.695565</td>\n",
              "      <td>0.756906</td>\n",
              "      <td>0.0</td>\n",
              "      <td>1.000000</td>\n",
              "      <td>0.448276</td>\n",
              "      <td>0.500000</td>\n",
              "      <td>NaN</td>\n",
              "      <td>0.592056</td>\n",
              "    </tr>\n",
              "    <tr>\n",
              "      <th>2011-12-19</th>\n",
              "      <td>0.503334</td>\n",
              "      <td>0.898711</td>\n",
              "      <td>0.0</td>\n",
              "      <td>1.000000</td>\n",
              "      <td>0.586207</td>\n",
              "      <td>0.000000</td>\n",
              "      <td>NaN</td>\n",
              "      <td>0.884661</td>\n",
              "    </tr>\n",
              "  </tbody>\n",
              "</table>\n",
              "</div>"
            ],
            "text/plain": [
              "                 NO2  RSPM/PM10  year  ...  day_of_week  weekend       SPM\n",
              "Date                                   ...                                \n",
              "2011-05-12  0.695565   0.550645   0.0  ...     0.500000      NaN  0.824789\n",
              "2011-08-12  0.695565   0.994475   0.0  ...     0.666667      NaN  0.892479\n",
              "2011-12-12  0.695565   0.681400   0.0  ...     0.000000      NaN  0.772810\n",
              "2011-12-15  0.695565   0.756906   0.0  ...     0.500000      NaN  0.592056\n",
              "2011-12-19  0.503334   0.898711   0.0  ...     0.000000      NaN  0.884661\n",
              "\n",
              "[5 rows x 8 columns]"
            ]
          },
          "metadata": {
            "tags": []
          },
          "execution_count": 141
        }
      ]
    },
    {
      "cell_type": "code",
      "metadata": {
        "id": "Qu2w9ah8ouRQ"
      },
      "source": [
        "df_bbsr_cps_after_impute = df_bbsr_cps_after_impute.fillna(value = 0)"
      ],
      "execution_count": null,
      "outputs": []
    },
    {
      "cell_type": "code",
      "metadata": {
        "id": "cgaok56gP3hR"
      },
      "source": [
        "from numpy import array"
      ],
      "execution_count": null,
      "outputs": []
    },
    {
      "cell_type": "code",
      "metadata": {
        "id": "5fXllNtpPavF"
      },
      "source": [
        "def split_sequences(sequences, n_steps_in, n_steps_out):\n",
        "\tX, y = list(), list()\n",
        "\tfor i in range(len(sequences)):\n",
        "\t\t# find the end of this pattern\n",
        "\t\tend_ix = i + n_steps_in\n",
        "\t\tout_end_ix = end_ix + n_steps_out-1\n",
        "\t\t# check if we are beyond the dataset\n",
        "\t\tif out_end_ix > len(sequences):\n",
        "\t\t\tbreak\n",
        "\t\t# gather input and output parts of the pattern\n",
        "\t\tseq_x, seq_y = sequences[i:end_ix, :-1], sequences[end_ix-1:out_end_ix, -1]\n",
        "\t\tX.append(seq_x)\n",
        "\t\ty.append(seq_y)\n",
        "\treturn array(X), array(y)\n",
        "\n",
        "\n",
        "# choose a number of time steps\n",
        "n_steps_in, n_steps_out = 35, 7\n",
        "\n",
        "X, y = split_sequences(df_bbsr_cps_after_impute.values, n_steps_in, n_steps_out)\n",
        "\n",
        "X_test, y_test = X[-1], y[-1]\n",
        "\n",
        "for i in range(n_steps_out):\n",
        "\tX = np.delete(X, X.shape[0] - 1, 0)\n",
        "\ty = np.delete(y, y.shape[0] - 1, 0)\n",
        "\n",
        "n_features = X.shape[2]"
      ],
      "execution_count": null,
      "outputs": []
    },
    {
      "cell_type": "code",
      "metadata": {
        "id": "BamTpaAOTHbP",
        "colab": {
          "base_uri": "https://localhost:8080/",
          "height": 53
        },
        "outputId": "3c92037d-c12e-4495-e7dc-d24e469d4ec2"
      },
      "source": [
        "print(y_test)"
      ],
      "execution_count": null,
      "outputs": [
        {
          "output_type": "stream",
          "text": [
            "[0.11940299 0.17910448 0.14925373 0.47761194 0.26865672 0.20895522\n",
            " 0.2238806 ]\n"
          ],
          "name": "stdout"
        }
      ]
    },
    {
      "cell_type": "code",
      "metadata": {
        "id": "bMSLLv-pP0hj",
        "colab": {
          "base_uri": "https://localhost:8080/",
          "height": 35
        },
        "outputId": "de2f5187-862b-4590-a0c4-ae93d89b02d0"
      },
      "source": [
        "from keras.models import Sequential\n",
        "from keras.layers import Dense\n",
        "from keras.layers import Flatten\n",
        "from keras.layers.convolutional import Conv1D\n",
        "from keras.layers.convolutional import MaxPooling1D\n",
        "from keras.layers import LSTM\n",
        "from keras.layers.normalization import BatchNormalization\n",
        "from keras.layers import Bidirectional\n",
        "model = Sequential()\n",
        "model.add(Bidirectional(GRU(50, activation='relu', return_sequences=True, input_shape=(n_steps_in, n_features))))\n",
        "model.add(Bidirectional(GRU(50, activation='relu')))\n",
        "model.add(Dense(50, activation='relu'))\n",
        "model.add(Dense(50, activation='relu'))\n",
        "model.add(Dense(50, activation='relu'))\n",
        "model.add(Dense(n_steps_out))\n",
        "model.compile(optimizer='RMSProp', loss='mae')\n",
        "\n",
        "print('SUCCESS!!')"
      ],
      "execution_count": null,
      "outputs": [
        {
          "output_type": "stream",
          "text": [
            "SUCCESS!!\n"
          ],
          "name": "stdout"
        }
      ]
    },
    {
      "cell_type": "code",
      "metadata": {
        "id": "Dhl0ZD7MQDRv",
        "colab": {
          "base_uri": "https://localhost:8080/",
          "height": 1000
        },
        "outputId": "240133f6-4c3b-49c4-b893-f2733d20cdfd"
      },
      "source": [
        "from tensorflow.keras.callbacks import EarlyStopping\n",
        "\n",
        "monitor = EarlyStopping(monitor='loss', min_delta=1e-2, patience=30, verbose=1, mode='auto',\n",
        "        restore_best_weights=True)\n",
        "model.fit(X, y, callbacks=[monitor], verbose=2, epochs=1000)"
      ],
      "execution_count": null,
      "outputs": [
        {
          "output_type": "stream",
          "text": [
            "Epoch 1/1000\n",
            "3/3 - 0s - loss: 0.3316\n",
            "Epoch 2/1000\n",
            "3/3 - 0s - loss: 0.2580\n",
            "Epoch 3/1000\n",
            "3/3 - 0s - loss: 0.1875\n",
            "Epoch 4/1000\n",
            "3/3 - 0s - loss: 0.3646\n",
            "Epoch 5/1000\n",
            "3/3 - 0s - loss: 0.1648\n",
            "Epoch 6/1000\n",
            "3/3 - 0s - loss: 0.1537\n",
            "Epoch 7/1000\n",
            "3/3 - 0s - loss: 0.1434\n",
            "Epoch 8/1000\n",
            "3/3 - 0s - loss: 0.1327\n",
            "Epoch 9/1000\n",
            "3/3 - 0s - loss: 0.1249\n",
            "Epoch 10/1000\n",
            "3/3 - 0s - loss: 0.1232\n",
            "Epoch 11/1000\n",
            "3/3 - 0s - loss: 0.1160\n",
            "Epoch 12/1000\n",
            "3/3 - 0s - loss: 0.1172\n",
            "Epoch 13/1000\n",
            "3/3 - 0s - loss: 0.1152\n",
            "Epoch 14/1000\n",
            "3/3 - 0s - loss: 0.1544\n",
            "Epoch 15/1000\n",
            "3/3 - 0s - loss: 0.1269\n",
            "Epoch 16/1000\n",
            "3/3 - 0s - loss: 0.1107\n",
            "Epoch 17/1000\n",
            "3/3 - 0s - loss: 0.1138\n",
            "Epoch 18/1000\n",
            "3/3 - 0s - loss: 0.1081\n",
            "Epoch 19/1000\n",
            "3/3 - 0s - loss: 0.1126\n",
            "Epoch 20/1000\n",
            "3/3 - 0s - loss: 0.1203\n",
            "Epoch 21/1000\n",
            "3/3 - 0s - loss: 0.1094\n",
            "Epoch 22/1000\n",
            "3/3 - 0s - loss: 0.1433\n",
            "Epoch 23/1000\n",
            "3/3 - 0s - loss: 0.1109\n",
            "Epoch 24/1000\n",
            "3/3 - 0s - loss: 0.1142\n",
            "Epoch 25/1000\n",
            "3/3 - 0s - loss: 0.1059\n",
            "Epoch 26/1000\n",
            "3/3 - 0s - loss: 0.1084\n",
            "Epoch 27/1000\n",
            "3/3 - 0s - loss: 0.1223\n",
            "Epoch 28/1000\n",
            "3/3 - 0s - loss: 0.1227\n",
            "Epoch 29/1000\n",
            "3/3 - 0s - loss: 0.1405\n",
            "Epoch 30/1000\n",
            "3/3 - 0s - loss: 0.1063\n",
            "Epoch 31/1000\n",
            "3/3 - 0s - loss: 0.1052\n",
            "Epoch 32/1000\n",
            "3/3 - 0s - loss: 0.1184\n",
            "Epoch 33/1000\n",
            "3/3 - 0s - loss: 0.1160\n",
            "Epoch 34/1000\n",
            "3/3 - 0s - loss: 0.1070\n",
            "Epoch 35/1000\n",
            "3/3 - 0s - loss: 0.1088\n",
            "Epoch 36/1000\n",
            "3/3 - 0s - loss: 0.1067\n",
            "Epoch 37/1000\n",
            "3/3 - 0s - loss: 0.1221\n",
            "Epoch 38/1000\n",
            "3/3 - 0s - loss: 0.1094\n",
            "Epoch 39/1000\n",
            "3/3 - 0s - loss: 0.1031\n",
            "Epoch 40/1000\n",
            "3/3 - 0s - loss: 0.1162\n",
            "Epoch 41/1000\n",
            "3/3 - 0s - loss: 0.1041\n",
            "Epoch 42/1000\n",
            "3/3 - 0s - loss: 0.1009\n",
            "Epoch 43/1000\n",
            "3/3 - 0s - loss: 0.1232\n",
            "Epoch 44/1000\n",
            "3/3 - 0s - loss: 0.1013\n",
            "Epoch 45/1000\n",
            "3/3 - 0s - loss: 0.1021\n",
            "Epoch 46/1000\n",
            "3/3 - 0s - loss: 0.1069\n",
            "Epoch 47/1000\n",
            "3/3 - 0s - loss: 0.1042\n",
            "Epoch 48/1000\n",
            "3/3 - 0s - loss: 0.1029\n",
            "Epoch 49/1000\n",
            "3/3 - 0s - loss: 0.0977\n",
            "Epoch 50/1000\n",
            "3/3 - 0s - loss: 0.1174\n",
            "Epoch 51/1000\n",
            "3/3 - 0s - loss: 0.0992\n",
            "Epoch 52/1000\n",
            "3/3 - 0s - loss: 0.0979\n",
            "Epoch 53/1000\n",
            "3/3 - 0s - loss: 0.0988\n",
            "Epoch 54/1000\n",
            "3/3 - 0s - loss: 0.1133\n",
            "Epoch 55/1000\n",
            "Restoring model weights from the end of the best epoch.\n",
            "3/3 - 0s - loss: 0.0978\n",
            "Epoch 00055: early stopping\n"
          ],
          "name": "stdout"
        },
        {
          "output_type": "execute_result",
          "data": {
            "text/plain": [
              "<tensorflow.python.keras.callbacks.History at 0x7f308a68b630>"
            ]
          },
          "metadata": {
            "tags": []
          },
          "execution_count": 152
        }
      ]
    },
    {
      "cell_type": "code",
      "metadata": {
        "id": "x86kJgK-ZH1T"
      },
      "source": [
        "model.save('CPS_Model_SPM.h5')\n"
      ],
      "execution_count": null,
      "outputs": []
    },
    {
      "cell_type": "code",
      "metadata": {
        "id": "Kdkl3gq1Xd5M",
        "colab": {
          "base_uri": "https://localhost:8080/",
          "height": 128
        },
        "outputId": "f4b0e2e0-273b-49fc-c3de-036e1855567a"
      },
      "source": [
        "x_input = array(X_test)\n",
        "x_input = x_input.reshape((1, n_steps_in, n_features))\n",
        "yhat = model.predict(x_input, verbose=1)\n",
        "print((yhat[0]*std_dev_ospcb)+mean_ospcb)\n",
        "print((y_test*std_dev_ospcb)+mean_ospcb)"
      ],
      "execution_count": null,
      "outputs": [
        {
          "output_type": "stream",
          "text": [
            "WARNING:tensorflow:6 out of the last 7 calls to <function Model.make_predict_function.<locals>.predict_function at 0x7f308c6a1400> triggered tf.function retracing. Tracing is expensive and the excessive number of tracings could be due to (1) creating @tf.function repeatedly in a loop, (2) passing tensors with different shapes, (3) passing Python objects instead of tensors. For (1), please define your @tf.function outside of the loop. For (2), @tf.function has experimental_relax_shapes=True option that relaxes argument shapes that can avoid unnecessary retracing. For (3), please refer to https://www.tensorflow.org/tutorials/customization/performance#python_or_tensor_args and https://www.tensorflow.org/api_docs/python/tf/function for  more details.\n",
            "1/1 [==============================] - 0s 1ms/step\n",
            "[41.339584 32.411148 21.677185 27.96973  26.3823   24.386395 39.87899 ]\n",
            "[13.41515996 37.69853974 20.0378999  31.0757998  33.28337978 28.86821982\n",
            " 37.69853974]\n"
          ],
          "name": "stdout"
        }
      ]
    },
    {
      "cell_type": "code",
      "metadata": {
        "id": "NRe7RAFQLYnI",
        "colab": {
          "base_uri": "https://localhost:8080/",
          "height": 72
        },
        "outputId": "24ef2770-8cab-4a79-e9f3-60f598226ea2"
      },
      "source": [
        "y_test = (y_test*std_dev_ospcb)+mean_ospcb\n",
        "yhat = (yhat[0]*std_dev_ospcb)+mean_ospcb\n",
        "print(yhat)\n",
        "print(y_test)"
      ],
      "execution_count": null,
      "outputs": [
        {
          "output_type": "stream",
          "text": [
            "[41.339584 32.411148 21.677185 27.96973  26.3823   24.386395 39.87899 ]\n",
            "[13.41515996 37.69853974 20.0378999  31.0757998  33.28337978 28.86821982\n",
            " 37.69853974]\n"
          ],
          "name": "stdout"
        }
      ]
    },
    {
      "cell_type": "code",
      "metadata": {
        "id": "k-EtMODAXJyh",
        "colab": {
          "base_uri": "https://localhost:8080/",
          "height": 505
        },
        "outputId": "4df5884d-025e-44b1-f4e5-cf0b6999b2f1"
      },
      "source": [
        "plt.plot((yhat),label = 'Predicted', linewidth = 3)\n",
        "plt.plot((y_test), label = 'Actual', linewidth = 3)\n",
        "plt.xlabel('Time (in days)', fontsize = 'xx-large', fontweight = 'bold')\n",
        "plt.ylabel('PM10 (in µg/m3)', fontsize = 'xx-large', fontweight = 'bold')\n",
        "plt.legend(prop = {'size': 16})\n",
        "plt.show()"
      ],
      "execution_count": null,
      "outputs": [
        {
          "output_type": "display_data",
          "data": {
            "image/png": "[encoded data removed]",
            "text/plain": [
              "<Figure size 1080x576 with 1 Axes>"
            ]
          },
          "metadata": {
            "tags": [],
            "needs_background": "light"
          }
        }
      ]
    },
    {
      "cell_type": "code",
      "metadata": {
        "id": "W0j9eCxj_NVi",
        "colab": {
          "base_uri": "https://localhost:8080/",
          "height": 90
        },
        "outputId": "7980f9b0-a649-4eb7-efc1-090b5f46378c"
      },
      "source": [
        "from sklearn.metrics import mean_squared_error\n",
        "from sklearn.metrics import mean_absolute_error\n",
        "from math import sqrt\n",
        "def mean_absolute_percentage_error(y_true, y_pred): \n",
        "   return np.mean(np.abs((y_true - y_pred) / y_true)) * 100\n",
        "\n",
        "\n",
        "rms_new = sqrt(mean_squared_error(y_test, yhat))\n",
        "print(rms_new)\n",
        "\n",
        "mse_new = mean_squared_error(y_test, yhat)\n",
        "print(mse_new)\n",
        "\n",
        "mae_new = mean_absolute_error(y_test, yhat)\n",
        "print(mae_new)\n",
        "\n",
        "mape_new = mean_absolute_percentage_error(y_test, yhat)\n",
        "print(mape_new)"
      ],
      "execution_count": null,
      "outputs": [
        {
          "output_type": "stream",
          "text": [
            "11.291785533446223\n",
            "127.50442053334541\n",
            "7.360075250857003\n",
            "40.34294186505533\n"
          ],
          "name": "stdout"
        }
      ]
    },
    {
      "cell_type": "code",
      "metadata": {
        "id": "hgYwoTvvQkFu"
      },
      "source": [
        "model.save('CSPUR_Model_SPM.h5')"
      ],
      "execution_count": null,
      "outputs": []
    },
    {
      "cell_type": "code",
      "metadata": {
        "id": "iNiwg56LpyS7",
        "colab": {
          "base_uri": "https://localhost:8080/",
          "height": 237
        },
        "outputId": "0922fd55-7025-46d8-dd1a-d1195aa6a2c8"
      },
      "source": [
        "df_bbsr_cps_after_impute.head()"
      ],
      "execution_count": null,
      "outputs": [
        {
          "output_type": "execute_result",
          "data": {
            "text/html": [
              "<div>\n",
              "<style scoped>\n",
              "    .dataframe tbody tr th:only-of-type {\n",
              "        vertical-align: middle;\n",
              "    }\n",
              "\n",
              "    .dataframe tbody tr th {\n",
              "        vertical-align: top;\n",
              "    }\n",
              "\n",
              "    .dataframe thead th {\n",
              "        text-align: right;\n",
              "    }\n",
              "</style>\n",
              "<table border=\"1\" class=\"dataframe\">\n",
              "  <thead>\n",
              "    <tr style=\"text-align: right;\">\n",
              "      <th></th>\n",
              "      <th>SO2</th>\n",
              "      <th>NO2</th>\n",
              "      <th>RSPM/PM10</th>\n",
              "      <th>SPM</th>\n",
              "      <th>year</th>\n",
              "      <th>month</th>\n",
              "      <th>day</th>\n",
              "      <th>day_of_week</th>\n",
              "      <th>weekend</th>\n",
              "    </tr>\n",
              "    <tr>\n",
              "      <th>Date</th>\n",
              "      <th></th>\n",
              "      <th></th>\n",
              "      <th></th>\n",
              "      <th></th>\n",
              "      <th></th>\n",
              "      <th></th>\n",
              "      <th></th>\n",
              "      <th></th>\n",
              "      <th></th>\n",
              "    </tr>\n",
              "  </thead>\n",
              "  <tbody>\n",
              "    <tr>\n",
              "      <th>2011-05-12</th>\n",
              "      <td>2.0</td>\n",
              "      <td>40.400000</td>\n",
              "      <td>122.666667</td>\n",
              "      <td>59.260890</td>\n",
              "      <td>2011</td>\n",
              "      <td>5</td>\n",
              "      <td>12</td>\n",
              "      <td>3</td>\n",
              "      <td>0</td>\n",
              "    </tr>\n",
              "    <tr>\n",
              "      <th>2011-08-12</th>\n",
              "      <td>2.0</td>\n",
              "      <td>33.133333</td>\n",
              "      <td>203.000000</td>\n",
              "      <td>63.796112</td>\n",
              "      <td>2011</td>\n",
              "      <td>8</td>\n",
              "      <td>12</td>\n",
              "      <td>4</td>\n",
              "      <td>0</td>\n",
              "    </tr>\n",
              "    <tr>\n",
              "      <th>2011-12-12</th>\n",
              "      <td>2.0</td>\n",
              "      <td>34.033333</td>\n",
              "      <td>146.333333</td>\n",
              "      <td>55.778242</td>\n",
              "      <td>2011</td>\n",
              "      <td>12</td>\n",
              "      <td>12</td>\n",
              "      <td>0</td>\n",
              "      <td>0</td>\n",
              "    </tr>\n",
              "    <tr>\n",
              "      <th>2011-12-15</th>\n",
              "      <td>2.0</td>\n",
              "      <td>21.500000</td>\n",
              "      <td>160.000000</td>\n",
              "      <td>43.667724</td>\n",
              "      <td>2011</td>\n",
              "      <td>12</td>\n",
              "      <td>15</td>\n",
              "      <td>3</td>\n",
              "      <td>0</td>\n",
              "    </tr>\n",
              "    <tr>\n",
              "      <th>2011-12-19</th>\n",
              "      <td>2.0</td>\n",
              "      <td>35.100000</td>\n",
              "      <td>185.666667</td>\n",
              "      <td>63.272258</td>\n",
              "      <td>2011</td>\n",
              "      <td>12</td>\n",
              "      <td>19</td>\n",
              "      <td>0</td>\n",
              "      <td>0</td>\n",
              "    </tr>\n",
              "  </tbody>\n",
              "</table>\n",
              "</div>"
            ],
            "text/plain": [
              "            SO2        NO2   RSPM/PM10  ...  day  day_of_week  weekend\n",
              "Date                                    ...                           \n",
              "2011-05-12  2.0  40.400000  122.666667  ...   12            3        0\n",
              "2011-08-12  2.0  33.133333  203.000000  ...   12            4        0\n",
              "2011-12-12  2.0  34.033333  146.333333  ...   12            0        0\n",
              "2011-12-15  2.0  21.500000  160.000000  ...   15            3        0\n",
              "2011-12-19  2.0  35.100000  185.666667  ...   19            0        0\n",
              "\n",
              "[5 rows x 9 columns]"
            ]
          },
          "metadata": {
            "tags": []
          },
          "execution_count": 170
        }
      ]
    },
    {
      "cell_type": "code",
      "metadata": {
        "id": "EPHW5Dpku3x5"
      },
      "source": [
        "df_bbsr_cps_after_impute = df_bbsr_cps_after_impute.rename(columns={\"RSPM/PM10\": \"PM10\", \"day_of_week\": \"weekday\"})"
      ],
      "execution_count": null,
      "outputs": []
    },
    {
      "cell_type": "code",
      "metadata": {
        "id": "CsCEMt3VwoOX",
        "colab": {
          "base_uri": "https://localhost:8080/",
          "height": 237
        },
        "outputId": "51582f03-a67d-4e3b-ad42-d0391b06b85a"
      },
      "source": [
        "df_bbsr_cps_after_impute.head()"
      ],
      "execution_count": null,
      "outputs": [
        {
          "output_type": "execute_result",
          "data": {
            "text/html": [
              "<div>\n",
              "<style scoped>\n",
              "    .dataframe tbody tr th:only-of-type {\n",
              "        vertical-align: middle;\n",
              "    }\n",
              "\n",
              "    .dataframe tbody tr th {\n",
              "        vertical-align: top;\n",
              "    }\n",
              "\n",
              "    .dataframe thead th {\n",
              "        text-align: right;\n",
              "    }\n",
              "</style>\n",
              "<table border=\"1\" class=\"dataframe\">\n",
              "  <thead>\n",
              "    <tr style=\"text-align: right;\">\n",
              "      <th></th>\n",
              "      <th>SO2</th>\n",
              "      <th>NO2</th>\n",
              "      <th>PM10</th>\n",
              "      <th>SPM</th>\n",
              "      <th>year</th>\n",
              "      <th>month</th>\n",
              "      <th>day</th>\n",
              "      <th>weekday</th>\n",
              "      <th>weekend</th>\n",
              "    </tr>\n",
              "    <tr>\n",
              "      <th>Date</th>\n",
              "      <th></th>\n",
              "      <th></th>\n",
              "      <th></th>\n",
              "      <th></th>\n",
              "      <th></th>\n",
              "      <th></th>\n",
              "      <th></th>\n",
              "      <th></th>\n",
              "      <th></th>\n",
              "    </tr>\n",
              "  </thead>\n",
              "  <tbody>\n",
              "    <tr>\n",
              "      <th>2011-05-12</th>\n",
              "      <td>2.0</td>\n",
              "      <td>40.400000</td>\n",
              "      <td>122.666667</td>\n",
              "      <td>59.260890</td>\n",
              "      <td>2011</td>\n",
              "      <td>5</td>\n",
              "      <td>12</td>\n",
              "      <td>3</td>\n",
              "      <td>0</td>\n",
              "    </tr>\n",
              "    <tr>\n",
              "      <th>2011-08-12</th>\n",
              "      <td>2.0</td>\n",
              "      <td>33.133333</td>\n",
              "      <td>203.000000</td>\n",
              "      <td>63.796112</td>\n",
              "      <td>2011</td>\n",
              "      <td>8</td>\n",
              "      <td>12</td>\n",
              "      <td>4</td>\n",
              "      <td>0</td>\n",
              "    </tr>\n",
              "    <tr>\n",
              "      <th>2011-12-12</th>\n",
              "      <td>2.0</td>\n",
              "      <td>34.033333</td>\n",
              "      <td>146.333333</td>\n",
              "      <td>55.778242</td>\n",
              "      <td>2011</td>\n",
              "      <td>12</td>\n",
              "      <td>12</td>\n",
              "      <td>0</td>\n",
              "      <td>0</td>\n",
              "    </tr>\n",
              "    <tr>\n",
              "      <th>2011-12-15</th>\n",
              "      <td>2.0</td>\n",
              "      <td>21.500000</td>\n",
              "      <td>160.000000</td>\n",
              "      <td>43.667724</td>\n",
              "      <td>2011</td>\n",
              "      <td>12</td>\n",
              "      <td>15</td>\n",
              "      <td>3</td>\n",
              "      <td>0</td>\n",
              "    </tr>\n",
              "    <tr>\n",
              "      <th>2011-12-19</th>\n",
              "      <td>2.0</td>\n",
              "      <td>35.100000</td>\n",
              "      <td>185.666667</td>\n",
              "      <td>63.272258</td>\n",
              "      <td>2011</td>\n",
              "      <td>12</td>\n",
              "      <td>19</td>\n",
              "      <td>0</td>\n",
              "      <td>0</td>\n",
              "    </tr>\n",
              "  </tbody>\n",
              "</table>\n",
              "</div>"
            ],
            "text/plain": [
              "            SO2        NO2        PM10        SPM  ...  month  day  weekday  weekend\n",
              "Date                                               ...                              \n",
              "2011-05-12  2.0  40.400000  122.666667  59.260890  ...      5   12        3        0\n",
              "2011-08-12  2.0  33.133333  203.000000  63.796112  ...      8   12        4        0\n",
              "2011-12-12  2.0  34.033333  146.333333  55.778242  ...     12   12        0        0\n",
              "2011-12-15  2.0  21.500000  160.000000  43.667724  ...     12   15        3        0\n",
              "2011-12-19  2.0  35.100000  185.666667  63.272258  ...     12   19        0        0\n",
              "\n",
              "[5 rows x 9 columns]"
            ]
          },
          "metadata": {
            "tags": []
          },
          "execution_count": 173
        }
      ]
    },
    {
      "cell_type": "code",
      "metadata": {
        "id": "XZkt-qXdwzDy"
      },
      "source": [
        "df_bbsr_cps_after_impute.to_csv('CSPUR1.csv')"
      ],
      "execution_count": null,
      "outputs": []
    },
    {
      "cell_type": "code",
      "metadata": {
        "id": "Q_FT5Px0w6D7"
      },
      "source": [
        ""
      ],
      "execution_count": null,
      "outputs": []
    }
  ]
}